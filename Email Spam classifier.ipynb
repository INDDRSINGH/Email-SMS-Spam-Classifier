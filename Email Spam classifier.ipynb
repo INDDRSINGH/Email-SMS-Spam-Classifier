{
 "cells": [
  {
   "cell_type": "markdown",
   "id": "edb54458-7e6b-43c6-895c-1236c3b790df",
   "metadata": {},
   "source": [
    "# Email Spam classifier"
   ]
  },
  {
   "cell_type": "code",
   "execution_count": 453,
   "id": "cc7a2ffb-e56a-4a60-982d-7145b4e3c2b3",
   "metadata": {},
   "outputs": [],
   "source": [
    "import pandas as pd\n",
    "import numpy as np\n",
    "import matplotlib.pyplot as plt\n",
    "import seaborn as sns\n",
    "from sklearn.preprocessing import LabelEncoder\n",
    "from sklearn.model_selection import train_test_split\n",
    "from nltk.stem import PorterStemmer\n",
    "from sklearn.feature_extraction.text import TfidfVectorizer\n",
    "import re"
   ]
  },
  {
   "cell_type": "code",
   "execution_count": 455,
   "id": "c058104b-cd3e-4f7f-bc8b-d451d6dc85a3",
   "metadata": {},
   "outputs": [],
   "source": [
    "df = pd.read_csv(r'C:\\Users\\win10\\Downloads\\spam email\\CEAS_08.csv')"
   ]
  },
  {
   "cell_type": "code",
   "execution_count": 456,
   "id": "33640351-a83d-4cf0-970d-5ce1637153f1",
   "metadata": {},
   "outputs": [
    {
     "data": {
      "text/html": [
       "<div>\n",
       "<style scoped>\n",
       "    .dataframe tbody tr th:only-of-type {\n",
       "        vertical-align: middle;\n",
       "    }\n",
       "\n",
       "    .dataframe tbody tr th {\n",
       "        vertical-align: top;\n",
       "    }\n",
       "\n",
       "    .dataframe thead th {\n",
       "        text-align: right;\n",
       "    }\n",
       "</style>\n",
       "<table border=\"1\" class=\"dataframe\">\n",
       "  <thead>\n",
       "    <tr style=\"text-align: right;\">\n",
       "      <th></th>\n",
       "      <th>sender</th>\n",
       "      <th>receiver</th>\n",
       "      <th>date</th>\n",
       "      <th>subject</th>\n",
       "      <th>body</th>\n",
       "      <th>label</th>\n",
       "      <th>urls</th>\n",
       "    </tr>\n",
       "  </thead>\n",
       "  <tbody>\n",
       "    <tr>\n",
       "      <th>0</th>\n",
       "      <td>Young Esposito &lt;Young@iworld.de&gt;</td>\n",
       "      <td>user4@gvc.ceas-challenge.cc</td>\n",
       "      <td>Tue, 05 Aug 2008 16:31:02 -0700</td>\n",
       "      <td>Never agree to be a loser</td>\n",
       "      <td>Buck up, your troubles caused by small dimensi...</td>\n",
       "      <td>1</td>\n",
       "      <td>1</td>\n",
       "    </tr>\n",
       "    <tr>\n",
       "      <th>1</th>\n",
       "      <td>Mok &lt;ipline's1983@icable.ph&gt;</td>\n",
       "      <td>user2.2@gvc.ceas-challenge.cc</td>\n",
       "      <td>Tue, 05 Aug 2008 18:31:03 -0500</td>\n",
       "      <td>Befriend Jenna Jameson</td>\n",
       "      <td>\\nUpgrade your sex and pleasures with these te...</td>\n",
       "      <td>1</td>\n",
       "      <td>1</td>\n",
       "    </tr>\n",
       "    <tr>\n",
       "      <th>2</th>\n",
       "      <td>Daily Top 10 &lt;Karmandeep-opengevl@universalnet...</td>\n",
       "      <td>user2.9@gvc.ceas-challenge.cc</td>\n",
       "      <td>Tue, 05 Aug 2008 20:28:00 -1200</td>\n",
       "      <td>CNN.com Daily Top 10</td>\n",
       "      <td>&gt;+=+=+=+=+=+=+=+=+=+=+=+=+=+=+=+=+=+=+=+=+=+=+...</td>\n",
       "      <td>1</td>\n",
       "      <td>1</td>\n",
       "    </tr>\n",
       "    <tr>\n",
       "      <th>3</th>\n",
       "      <td>Michael Parker &lt;ivqrnai@pobox.com&gt;</td>\n",
       "      <td>SpamAssassin Dev &lt;xrh@spamassassin.apache.org&gt;</td>\n",
       "      <td>Tue, 05 Aug 2008 17:31:20 -0600</td>\n",
       "      <td>Re: svn commit: r619753 - in /spamassassin/tru...</td>\n",
       "      <td>Would anyone object to removing .so from this ...</td>\n",
       "      <td>0</td>\n",
       "      <td>1</td>\n",
       "    </tr>\n",
       "    <tr>\n",
       "      <th>4</th>\n",
       "      <td>Gretchen Suggs &lt;externalsep1@loanofficertool.com&gt;</td>\n",
       "      <td>user2.2@gvc.ceas-challenge.cc</td>\n",
       "      <td>Tue, 05 Aug 2008 19:31:21 -0400</td>\n",
       "      <td>SpecialPricesPharmMoreinfo</td>\n",
       "      <td>\\nWelcomeFastShippingCustomerSupport\\nhttp://7...</td>\n",
       "      <td>1</td>\n",
       "      <td>1</td>\n",
       "    </tr>\n",
       "  </tbody>\n",
       "</table>\n",
       "</div>"
      ],
      "text/plain": [
       "                                              sender  \\\n",
       "0                   Young Esposito <Young@iworld.de>   \n",
       "1                       Mok <ipline's1983@icable.ph>   \n",
       "2  Daily Top 10 <Karmandeep-opengevl@universalnet...   \n",
       "3                 Michael Parker <ivqrnai@pobox.com>   \n",
       "4  Gretchen Suggs <externalsep1@loanofficertool.com>   \n",
       "\n",
       "                                         receiver  \\\n",
       "0                     user4@gvc.ceas-challenge.cc   \n",
       "1                   user2.2@gvc.ceas-challenge.cc   \n",
       "2                   user2.9@gvc.ceas-challenge.cc   \n",
       "3  SpamAssassin Dev <xrh@spamassassin.apache.org>   \n",
       "4                   user2.2@gvc.ceas-challenge.cc   \n",
       "\n",
       "                              date  \\\n",
       "0  Tue, 05 Aug 2008 16:31:02 -0700   \n",
       "1  Tue, 05 Aug 2008 18:31:03 -0500   \n",
       "2  Tue, 05 Aug 2008 20:28:00 -1200   \n",
       "3  Tue, 05 Aug 2008 17:31:20 -0600   \n",
       "4  Tue, 05 Aug 2008 19:31:21 -0400   \n",
       "\n",
       "                                             subject  \\\n",
       "0                          Never agree to be a loser   \n",
       "1                             Befriend Jenna Jameson   \n",
       "2                               CNN.com Daily Top 10   \n",
       "3  Re: svn commit: r619753 - in /spamassassin/tru...   \n",
       "4                         SpecialPricesPharmMoreinfo   \n",
       "\n",
       "                                                body  label  urls  \n",
       "0  Buck up, your troubles caused by small dimensi...      1     1  \n",
       "1  \\nUpgrade your sex and pleasures with these te...      1     1  \n",
       "2  >+=+=+=+=+=+=+=+=+=+=+=+=+=+=+=+=+=+=+=+=+=+=+...      1     1  \n",
       "3  Would anyone object to removing .so from this ...      0     1  \n",
       "4  \\nWelcomeFastShippingCustomerSupport\\nhttp://7...      1     1  "
      ]
     },
     "execution_count": 456,
     "metadata": {},
     "output_type": "execute_result"
    }
   ],
   "source": [
    "df.head()"
   ]
  },
  {
   "cell_type": "code",
   "execution_count": 457,
   "id": "15a33c1e-eb7e-44ec-a16e-425c4f785eb5",
   "metadata": {},
   "outputs": [
    {
     "data": {
      "text/plain": [
       "(39154, 7)"
      ]
     },
     "execution_count": 457,
     "metadata": {},
     "output_type": "execute_result"
    }
   ],
   "source": [
    "df.shape"
   ]
  },
  {
   "cell_type": "code",
   "execution_count": 458,
   "id": "8e92c006-5368-4d50-996a-bea9a046db44",
   "metadata": {},
   "outputs": [
    {
     "name": "stdout",
     "output_type": "stream",
     "text": [
      "<class 'pandas.core.frame.DataFrame'>\n",
      "RangeIndex: 39154 entries, 0 to 39153\n",
      "Data columns (total 7 columns):\n",
      " #   Column    Non-Null Count  Dtype \n",
      "---  ------    --------------  ----- \n",
      " 0   sender    39154 non-null  object\n",
      " 1   receiver  38692 non-null  object\n",
      " 2   date      39154 non-null  object\n",
      " 3   subject   39126 non-null  object\n",
      " 4   body      39154 non-null  object\n",
      " 5   label     39154 non-null  int64 \n",
      " 6   urls      39154 non-null  int64 \n",
      "dtypes: int64(2), object(5)\n",
      "memory usage: 2.1+ MB\n"
     ]
    }
   ],
   "source": [
    "df.info()"
   ]
  },
  {
   "cell_type": "code",
   "execution_count": 459,
   "id": "01c2f2af-fb7c-480b-ad26-dedd8bf43f06",
   "metadata": {},
   "outputs": [
    {
     "data": {
      "text/plain": [
       "sender        0\n",
       "receiver    462\n",
       "date          0\n",
       "subject      28\n",
       "body          0\n",
       "label         0\n",
       "urls          0\n",
       "dtype: int64"
      ]
     },
     "execution_count": 459,
     "metadata": {},
     "output_type": "execute_result"
    }
   ],
   "source": [
    "df.isnull().sum()"
   ]
  },
  {
   "cell_type": "code",
   "execution_count": 460,
   "id": "06fa3a6e-ad31-461d-b74c-a1d000451b41",
   "metadata": {},
   "outputs": [
    {
     "data": {
      "text/plain": [
       "0"
      ]
     },
     "execution_count": 460,
     "metadata": {},
     "output_type": "execute_result"
    }
   ],
   "source": [
    "df.duplicated().sum()"
   ]
  },
  {
   "cell_type": "code",
   "execution_count": 461,
   "id": "87d0dabe-8e72-486e-95eb-a2d1e7bc9cd6",
   "metadata": {},
   "outputs": [],
   "source": [
    "# very less number of rows are empty so removing them all.\n",
    "\n",
    "df.dropna(inplace = True)"
   ]
  },
  {
   "cell_type": "code",
   "execution_count": 462,
   "id": "5a3522b7-fee6-44a7-a1f4-56d215d85c78",
   "metadata": {},
   "outputs": [
    {
     "data": {
      "text/plain": [
       "sender      0\n",
       "receiver    0\n",
       "date        0\n",
       "subject     0\n",
       "body        0\n",
       "label       0\n",
       "urls        0\n",
       "dtype: int64"
      ]
     },
     "execution_count": 462,
     "metadata": {},
     "output_type": "execute_result"
    }
   ],
   "source": [
    "df.isnull().sum()"
   ]
  },
  {
   "cell_type": "code",
   "execution_count": 463,
   "id": "64fa34b7-ddbf-442e-a9dc-188c665ba8b6",
   "metadata": {},
   "outputs": [
    {
     "data": {
      "text/plain": [
       "(38669, 7)"
      ]
     },
     "execution_count": 463,
     "metadata": {},
     "output_type": "execute_result"
    }
   ],
   "source": [
    "df.shape"
   ]
  },
  {
   "cell_type": "code",
   "execution_count": 464,
   "id": "aa7e5bf1-76d5-458b-9999-410098cf4912",
   "metadata": {},
   "outputs": [],
   "source": [
    "# coverting Young Esposito <Young@iworld.de>  to  iworld.de\n",
    "\n",
    "df['sender'] = df['sender'].apply(lambda x:x.split('@')[-1].replace('>',''))\n",
    "df['receiver'] = df['receiver'].apply(lambda x:x.split('@')[-1].replace('>',''))"
   ]
  },
  {
   "cell_type": "code",
   "execution_count": 465,
   "id": "40f45f12-703c-4935-9929-1330acbf9689",
   "metadata": {},
   "outputs": [
    {
     "data": {
      "text/html": [
       "<div>\n",
       "<style scoped>\n",
       "    .dataframe tbody tr th:only-of-type {\n",
       "        vertical-align: middle;\n",
       "    }\n",
       "\n",
       "    .dataframe tbody tr th {\n",
       "        vertical-align: top;\n",
       "    }\n",
       "\n",
       "    .dataframe thead th {\n",
       "        text-align: right;\n",
       "    }\n",
       "</style>\n",
       "<table border=\"1\" class=\"dataframe\">\n",
       "  <thead>\n",
       "    <tr style=\"text-align: right;\">\n",
       "      <th></th>\n",
       "      <th>sender</th>\n",
       "      <th>receiver</th>\n",
       "      <th>date</th>\n",
       "      <th>subject</th>\n",
       "      <th>body</th>\n",
       "      <th>label</th>\n",
       "      <th>urls</th>\n",
       "    </tr>\n",
       "  </thead>\n",
       "  <tbody>\n",
       "    <tr>\n",
       "      <th>0</th>\n",
       "      <td>iworld.de</td>\n",
       "      <td>gvc.ceas-challenge.cc</td>\n",
       "      <td>Tue, 05 Aug 2008 16:31:02 -0700</td>\n",
       "      <td>Never agree to be a loser</td>\n",
       "      <td>Buck up, your troubles caused by small dimensi...</td>\n",
       "      <td>1</td>\n",
       "      <td>1</td>\n",
       "    </tr>\n",
       "    <tr>\n",
       "      <th>1</th>\n",
       "      <td>icable.ph</td>\n",
       "      <td>gvc.ceas-challenge.cc</td>\n",
       "      <td>Tue, 05 Aug 2008 18:31:03 -0500</td>\n",
       "      <td>Befriend Jenna Jameson</td>\n",
       "      <td>\\nUpgrade your sex and pleasures with these te...</td>\n",
       "      <td>1</td>\n",
       "      <td>1</td>\n",
       "    </tr>\n",
       "  </tbody>\n",
       "</table>\n",
       "</div>"
      ],
      "text/plain": [
       "      sender               receiver                             date  \\\n",
       "0  iworld.de  gvc.ceas-challenge.cc  Tue, 05 Aug 2008 16:31:02 -0700   \n",
       "1  icable.ph  gvc.ceas-challenge.cc  Tue, 05 Aug 2008 18:31:03 -0500   \n",
       "\n",
       "                     subject  \\\n",
       "0  Never agree to be a loser   \n",
       "1     Befriend Jenna Jameson   \n",
       "\n",
       "                                                body  label  urls  \n",
       "0  Buck up, your troubles caused by small dimensi...      1     1  \n",
       "1  \\nUpgrade your sex and pleasures with these te...      1     1  "
      ]
     },
     "execution_count": 465,
     "metadata": {},
     "output_type": "execute_result"
    }
   ],
   "source": [
    "df.head(2)"
   ]
  },
  {
   "cell_type": "code",
   "execution_count": 466,
   "id": "f03e3947-b61a-4cb1-8410-67eac310d7d9",
   "metadata": {},
   "outputs": [
    {
     "data": {
      "text/plain": [
       "<Axes: ylabel='sender'>"
      ]
     },
     "execution_count": 466,
     "metadata": {},
     "output_type": "execute_result"
    },
    {
     "data": {
      "image/png": "[encoded data removed]",
      "text/plain": [
       "<Figure size 640x480 with 1 Axes>"
      ]
     },
     "metadata": {},
     "output_type": "display_data"
    }
   ],
   "source": [
    "sender_data = df['sender'].value_counts().reset_index()[:20]\n",
    "sender_data.plot.barh('sender','count')"
   ]
  },
  {
   "cell_type": "markdown",
   "id": "0d8b6be2-3a65-4359-af7f-d0fc347cc0a1",
   "metadata": {},
   "source": [
    "### Observation : Most of the emails are sent from Gmail"
   ]
  },
  {
   "cell_type": "code",
   "execution_count": 468,
   "id": "a9bccb5b-36f6-47a7-b3a9-366a7946d647",
   "metadata": {},
   "outputs": [
    {
     "data": {
      "text/plain": [
       "<Axes: ylabel='receiver'>"
      ]
     },
     "execution_count": 468,
     "metadata": {},
     "output_type": "execute_result"
    },
    {
     "data": {
      "image/png": "[encoded data removed]",
      "text/plain": [
       "<Figure size 640x480 with 1 Axes>"
      ]
     },
     "metadata": {},
     "output_type": "display_data"
    }
   ],
   "source": [
    "sender_data = df['receiver'].value_counts().reset_index()[:20]\n",
    "sender_data.plot.barh('receiver','count')"
   ]
  },
  {
   "cell_type": "markdown",
   "id": "9faec45e-3403-4727-9bcd-7bd2c8825cb6",
   "metadata": {},
   "source": [
    "### Observation : Most of the emails are received on \"gvc.ceas-challenge.cc\" domain"
   ]
  },
  {
   "cell_type": "code",
   "execution_count": 470,
   "id": "14028f3f-8499-4e95-9189-0e1217ffc9f1",
   "metadata": {},
   "outputs": [
    {
     "data": {
      "text/plain": [
       "label\n",
       "1    21827\n",
       "0    16842\n",
       "Name: count, dtype: int64"
      ]
     },
     "execution_count": 470,
     "metadata": {},
     "output_type": "execute_result"
    }
   ],
   "source": [
    "label_count = df['label'].value_counts()\n",
    "label_count "
   ]
  },
  {
   "cell_type": "code",
   "execution_count": 603,
   "id": "de77829a-6627-44ae-8dc3-2fae7245ed63",
   "metadata": {},
   "outputs": [
    {
     "name": "stdout",
     "output_type": "stream",
     "text": [
      "Spam :  56.44573172308568 %\n",
      "Not Spam :  43.55426827691432 %\n"
     ]
    }
   ],
   "source": [
    "print('Spam : ',label_count[1]*100/len(df),\"%\")\n",
    "print('Not Spam : ',label_count[0]*100/len(df),\"%\")"
   ]
  },
  {
   "cell_type": "code",
   "execution_count": 471,
   "id": "5f49622a-90a5-49e6-8510-54b42ceb1859",
   "metadata": {},
   "outputs": [
    {
     "data": {
      "image/png": "[encoded data removed]",
      "text/plain": [
       "<Figure size 700x300 with 1 Axes>"
      ]
     },
     "metadata": {},
     "output_type": "display_data"
    }
   ],
   "source": [
    "plt.figure(figsize=(7,3))\n",
    "plt.bar(x = label_count.index ,height=label_count.values,color=['blue', 'orange'])\n",
    "plt.xticks((0,1))\n",
    "plt.title('0 - Not spam |   1 - Spam')\n",
    "plt.show()"
   ]
  },
  {
   "cell_type": "markdown",
   "id": "fe2d4a39-2238-4380-ae90-e3caf9b62b89",
   "metadata": {},
   "source": [
    "### Dataset is imbalanced"
   ]
  },
  {
   "cell_type": "code",
   "execution_count": 473,
   "id": "dce8dd83-9189-4944-91eb-0a26a7fc127c",
   "metadata": {},
   "outputs": [
    {
     "name": "stdout",
     "output_type": "stream",
     "text": [
      "urls\n",
      "1    25994\n",
      "0    12675\n",
      "Name: count, dtype: int64\n"
     ]
    },
    {
     "data": {
      "image/png": "[encoded data removed]",
      "text/plain": [
       "<Figure size 700x300 with 1 Axes>"
      ]
     },
     "metadata": {},
     "output_type": "display_data"
    }
   ],
   "source": [
    "plt.figure(figsize=(7,3))\n",
    "count = df['urls'].value_counts()\n",
    "print(count)\n",
    "plt.bar(x = count.index ,height=count.values,color=['blue', 'orange'])\n",
    "plt.xticks((0,1))\n",
    "plt.title('0 - URL not present | 1 - URL Present')\n",
    "plt.show()"
   ]
  },
  {
   "cell_type": "markdown",
   "id": "1b63ff9c-224f-4763-babe-4a5ac82d406b",
   "metadata": {},
   "source": [
    "### Most of the emails have URLs."
   ]
  },
  {
   "cell_type": "code",
   "execution_count": 475,
   "id": "dac9cb28-66bc-4236-998f-1656b33115c3",
   "metadata": {},
   "outputs": [
    {
     "name": "stdout",
     "output_type": "stream",
     "text": [
      "spam with/without URLs urls\n",
      "1    14887\n",
      "0     6940\n",
      "Name: count, dtype: int64\n",
      "---------------------------------------\n",
      "Not Spam with/without URLs urls\n",
      "1    11107\n",
      "0     5735\n",
      "Name: count, dtype: int64\n"
     ]
    }
   ],
   "source": [
    "spam_url=df[df['label']==1]['urls'].reset_index(drop=True).value_counts()\n",
    "notspam_url = df[df['label']==0]['urls'].reset_index(drop=True).value_counts()\n",
    "\n",
    "\n",
    "print('spam with/without URLs',spam_url)\n",
    "print('---------------------------------------')\n",
    "print('Not Spam with/without URLs',notspam_url)\n"
   ]
  },
  {
   "cell_type": "code",
   "execution_count": 476,
   "id": "5bcb8b57-7f59-409a-9777-6a550874f8ec",
   "metadata": {},
   "outputs": [
    {
     "data": {
      "image/png": "[encoded data removed]",
      "text/plain": [
       "<Figure size 640x480 with 1 Axes>"
      ]
     },
     "metadata": {},
     "output_type": "display_data"
    }
   ],
   "source": [
    "sns.countplot(data=df, x='urls',hue='label')\n",
    "plt.xlabel('Without URL                  |                With URL')\n",
    "plt.title('Blue: NotSpam | Orange : Spam')\n",
    "plt.show()"
   ]
  },
  {
   "cell_type": "markdown",
   "id": "33fef721-c8dc-4221-8fc5-50514d76a22a",
   "metadata": {},
   "source": [
    "### There is no clear extinction between the emails with or without URLs and whether email is spam or not"
   ]
  },
  {
   "cell_type": "code",
   "execution_count": 478,
   "id": "ae3366df-7dbb-46e3-8b1a-274eae6855f2",
   "metadata": {},
   "outputs": [
    {
     "data": {
      "text/plain": [
       "0        Tue\n",
       "1        Tue\n",
       "2        Tue\n",
       "3        Tue\n",
       "4        Tue\n",
       "        ... \n",
       "39149    Fri\n",
       "39150    Fri\n",
       "39151    Fri\n",
       "39152    Fri\n",
       "39153    Fri\n",
       "Name: dayOfWeek, Length: 38669, dtype: object"
      ]
     },
     "execution_count": 478,
     "metadata": {},
     "output_type": "execute_result"
    }
   ],
   "source": [
    "df['dayOfWeek'] = df['date'].apply(lambda x:x[:3])\n",
    "df['dayOfWeek'] "
   ]
  },
  {
   "cell_type": "code",
   "execution_count": 479,
   "id": "a4e9378a-3cd3-4722-8e0e-8cbfd66ee296",
   "metadata": {},
   "outputs": [
    {
     "data": {
      "text/plain": [
       "0       2008-08-05 23:31:02+00:00\n",
       "1       2008-08-05 23:31:03+00:00\n",
       "2       2008-08-06 08:28:00+00:00\n",
       "3       2008-08-05 23:31:20+00:00\n",
       "4       2008-08-05 23:31:21+00:00\n",
       "                   ...           \n",
       "39149   2008-08-08 14:34:50+00:00\n",
       "39150   2008-08-08 14:35:11+00:00\n",
       "39151   2008-08-08 14:00:43+00:00\n",
       "39152   2008-08-08 14:00:46+00:00\n",
       "39153   2008-08-08 14:00:18+00:00\n",
       "Name: date, Length: 38669, dtype: datetime64[ns, UTC]"
      ]
     },
     "execution_count": 479,
     "metadata": {},
     "output_type": "execute_result"
    }
   ],
   "source": [
    "df['date'] = pd.to_datetime(df['date'],errors= 'coerce',utc = True)\n",
    "df['date']"
   ]
  },
  {
   "cell_type": "code",
   "execution_count": 480,
   "id": "aa25f1d9-c331-4759-b982-639a9233350a",
   "metadata": {},
   "outputs": [
    {
     "name": "stdout",
     "output_type": "stream",
     "text": [
      "<class 'pandas.core.series.Series'>\n",
      "Index: 38669 entries, 0 to 39153\n",
      "Series name: date\n",
      "Non-Null Count  Dtype              \n",
      "--------------  -----              \n",
      "38654 non-null  datetime64[ns, UTC]\n",
      "dtypes: datetime64[ns, UTC](1)\n",
      "memory usage: 604.2 KB\n"
     ]
    }
   ],
   "source": [
    "df['date'].info()"
   ]
  },
  {
   "cell_type": "code",
   "execution_count": 481,
   "id": "0c2fb077-effa-492d-893d-d376606e15fd",
   "metadata": {},
   "outputs": [
    {
     "data": {
      "text/plain": [
       "15"
      ]
     },
     "execution_count": 481,
     "metadata": {},
     "output_type": "execute_result"
    }
   ],
   "source": [
    "df.reset_index(inplace = True,drop=True)  # resetting index as few dates are changed to NAN\n",
    "\n",
    "df['date'].isnull().sum()"
   ]
  },
  {
   "cell_type": "code",
   "execution_count": 482,
   "id": "071b4ab3-effd-460a-9b54-de510c67492c",
   "metadata": {},
   "outputs": [
    {
     "data": {
      "text/html": [
       "<div>\n",
       "<style scoped>\n",
       "    .dataframe tbody tr th:only-of-type {\n",
       "        vertical-align: middle;\n",
       "    }\n",
       "\n",
       "    .dataframe tbody tr th {\n",
       "        vertical-align: top;\n",
       "    }\n",
       "\n",
       "    .dataframe thead th {\n",
       "        text-align: right;\n",
       "    }\n",
       "</style>\n",
       "<table border=\"1\" class=\"dataframe\">\n",
       "  <thead>\n",
       "    <tr style=\"text-align: right;\">\n",
       "      <th></th>\n",
       "      <th>sender</th>\n",
       "      <th>receiver</th>\n",
       "      <th>date</th>\n",
       "      <th>subject</th>\n",
       "      <th>body</th>\n",
       "      <th>label</th>\n",
       "      <th>urls</th>\n",
       "      <th>dayOfWeek</th>\n",
       "    </tr>\n",
       "  </thead>\n",
       "  <tbody>\n",
       "    <tr>\n",
       "      <th>6224</th>\n",
       "      <td>bodyandcolor.com</td>\n",
       "      <td>gvc.ceas-challenge.cc</td>\n",
       "      <td>NaT</td>\n",
       "      <td>All that beach chicks</td>\n",
       "      <td>Summer is here \\n\\nhttp://lookresolution.com/?...</td>\n",
       "      <td>1</td>\n",
       "      <td>1</td>\n",
       "      <td>Tue</td>\n",
       "    </tr>\n",
       "    <tr>\n",
       "      <th>7343</th>\n",
       "      <td>blumhorst.com</td>\n",
       "      <td>gvc.ceas-challenge.cc</td>\n",
       "      <td>NaT</td>\n",
       "      <td>Need no words</td>\n",
       "      <td>Need no words \\n\\nhttp://spivaka.cn/v/\\n\\n\\n</td>\n",
       "      <td>1</td>\n",
       "      <td>1</td>\n",
       "      <td>Wed</td>\n",
       "    </tr>\n",
       "    <tr>\n",
       "      <th>8528</th>\n",
       "      <td>boxerproperty.com</td>\n",
       "      <td>gvc.ceas-challenge.cc</td>\n",
       "      <td>NaT</td>\n",
       "      <td>Sunshine</td>\n",
       "      <td>Olympus mountain \\n\\nhttp://eitherindependence...</td>\n",
       "      <td>1</td>\n",
       "      <td>1</td>\n",
       "      <td>Wed</td>\n",
       "    </tr>\n",
       "    <tr>\n",
       "      <th>9502</th>\n",
       "      <td>boltongrp.com</td>\n",
       "      <td>gvc.ceas-challenge.cc</td>\n",
       "      <td>NaT</td>\n",
       "      <td>Beijing 2008</td>\n",
       "      <td>Olympic people \\n\\nhttp://eitherindependence.c...</td>\n",
       "      <td>1</td>\n",
       "      <td>1</td>\n",
       "      <td>Wed</td>\n",
       "    </tr>\n",
       "    <tr>\n",
       "      <th>12114</th>\n",
       "      <td>bosaship.com</td>\n",
       "      <td>gvc.ceas-challenge.cc</td>\n",
       "      <td>NaT</td>\n",
       "      <td>Get hot</td>\n",
       "      <td>Sun, sea and summer \\n\\nhttp://eitherindepende...</td>\n",
       "      <td>1</td>\n",
       "      <td>1</td>\n",
       "      <td>Wed</td>\n",
       "    </tr>\n",
       "    <tr>\n",
       "      <th>13690</th>\n",
       "      <td>bol3.com</td>\n",
       "      <td>gvc.ceas-challenge.cc</td>\n",
       "      <td>NaT</td>\n",
       "      <td>Olympic strength</td>\n",
       "      <td>Summer is here \\n\\nhttp://definitioneven.com/?...</td>\n",
       "      <td>1</td>\n",
       "      <td>1</td>\n",
       "      <td>Wed</td>\n",
       "    </tr>\n",
       "    <tr>\n",
       "      <th>15928</th>\n",
       "      <td>bradenbenefits.com</td>\n",
       "      <td>gvc.ceas-challenge.cc</td>\n",
       "      <td>NaT</td>\n",
       "      <td>As simple as black and white</td>\n",
       "      <td>Wonderful thing \\n\\nhttp://bunjax.cn/a/\\n\\n\\n</td>\n",
       "      <td>1</td>\n",
       "      <td>1</td>\n",
       "      <td>Thu</td>\n",
       "    </tr>\n",
       "    <tr>\n",
       "      <th>17380</th>\n",
       "      <td>qq.com</td>\n",
       "      <td>gvc.ceas-challenge.cc</td>\n",
       "      <td>NaT</td>\n",
       "      <td>Feel younger</td>\n",
       "      <td>Whatever \\n\\nhttp://runlyr.cn/v/\\n\\n\\n</td>\n",
       "      <td>1</td>\n",
       "      <td>1</td>\n",
       "      <td>Wed</td>\n",
       "    </tr>\n",
       "    <tr>\n",
       "      <th>18300</th>\n",
       "      <td>mail.china.com</td>\n",
       "      <td>gvc.ceas-challenge.cc</td>\n",
       "      <td>NaT</td>\n",
       "      <td>Great power</td>\n",
       "      <td>Olympus mountain \\n\\nhttp://definitioneven.com...</td>\n",
       "      <td>1</td>\n",
       "      <td>1</td>\n",
       "      <td>Thu</td>\n",
       "    </tr>\n",
       "    <tr>\n",
       "      <th>19220</th>\n",
       "      <td>icqmail.com</td>\n",
       "      <td>gvc.ceas-challenge.cc</td>\n",
       "      <td>NaT</td>\n",
       "      <td>Have a secret?</td>\n",
       "      <td>\\nHave a secret? \\n\\nhttp://nakseh.cn/a/\\n\\n\\n</td>\n",
       "      <td>1</td>\n",
       "      <td>1</td>\n",
       "      <td>Thu</td>\n",
       "    </tr>\n",
       "    <tr>\n",
       "      <th>19982</th>\n",
       "      <td>blueunderground.com</td>\n",
       "      <td>gvc.ceas-challenge.cc</td>\n",
       "      <td>NaT</td>\n",
       "      <td>Need no words</td>\n",
       "      <td>\\nHave a secret? \\n\\nhttp://mirvop.cn/v/\\n\\n\\n</td>\n",
       "      <td>1</td>\n",
       "      <td>1</td>\n",
       "      <td>Tue</td>\n",
       "    </tr>\n",
       "    <tr>\n",
       "      <th>21936</th>\n",
       "      <td>aquabluepoolsandspas.com</td>\n",
       "      <td>gvc.ceas-challenge.cc</td>\n",
       "      <td>NaT</td>\n",
       "      <td>Feel better</td>\n",
       "      <td>Pretty woman \\n\\nhttp://demiqaq.cn/v/\\n\\n\\n</td>\n",
       "      <td>1</td>\n",
       "      <td>1</td>\n",
       "      <td>Thu</td>\n",
       "    </tr>\n",
       "    <tr>\n",
       "      <th>24516</th>\n",
       "      <td>hotmail.com</td>\n",
       "      <td>gvc.ceas-challenge.cc</td>\n",
       "      <td>NaT</td>\n",
       "      <td>All that beach chicks</td>\n",
       "      <td>Olympic people \\n\\nhttp://spaceabout.com/?said...</td>\n",
       "      <td>1</td>\n",
       "      <td>1</td>\n",
       "      <td>Thu</td>\n",
       "    </tr>\n",
       "    <tr>\n",
       "      <th>27838</th>\n",
       "      <td>boatwarranty.com</td>\n",
       "      <td>gvc.ceas-challenge.cc</td>\n",
       "      <td>NaT</td>\n",
       "      <td>Olympus mountain</td>\n",
       "      <td>Olympic people \\n\\nhttp://alsodone.com/?said=r...</td>\n",
       "      <td>1</td>\n",
       "      <td>1</td>\n",
       "      <td>Mon</td>\n",
       "    </tr>\n",
       "    <tr>\n",
       "      <th>38320</th>\n",
       "      <td>bra.cicomore.fr</td>\n",
       "      <td>gvc.ceas-challenge.cc</td>\n",
       "      <td>NaT</td>\n",
       "      <td>Beijing 2008</td>\n",
       "      <td>All that beach chicks \\n\\nhttp://spiritualityb...</td>\n",
       "      <td>1</td>\n",
       "      <td>1</td>\n",
       "      <td>Fri</td>\n",
       "    </tr>\n",
       "  </tbody>\n",
       "</table>\n",
       "</div>"
      ],
      "text/plain": [
       "                         sender               receiver date  \\\n",
       "6224           bodyandcolor.com  gvc.ceas-challenge.cc  NaT   \n",
       "7343              blumhorst.com  gvc.ceas-challenge.cc  NaT   \n",
       "8528          boxerproperty.com  gvc.ceas-challenge.cc  NaT   \n",
       "9502              boltongrp.com  gvc.ceas-challenge.cc  NaT   \n",
       "12114              bosaship.com  gvc.ceas-challenge.cc  NaT   \n",
       "13690                  bol3.com  gvc.ceas-challenge.cc  NaT   \n",
       "15928        bradenbenefits.com  gvc.ceas-challenge.cc  NaT   \n",
       "17380                    qq.com  gvc.ceas-challenge.cc  NaT   \n",
       "18300            mail.china.com  gvc.ceas-challenge.cc  NaT   \n",
       "19220               icqmail.com  gvc.ceas-challenge.cc  NaT   \n",
       "19982       blueunderground.com  gvc.ceas-challenge.cc  NaT   \n",
       "21936  aquabluepoolsandspas.com  gvc.ceas-challenge.cc  NaT   \n",
       "24516               hotmail.com  gvc.ceas-challenge.cc  NaT   \n",
       "27838          boatwarranty.com  gvc.ceas-challenge.cc  NaT   \n",
       "38320           bra.cicomore.fr  gvc.ceas-challenge.cc  NaT   \n",
       "\n",
       "                            subject  \\\n",
       "6224          All that beach chicks   \n",
       "7343                  Need no words   \n",
       "8528                       Sunshine   \n",
       "9502                   Beijing 2008   \n",
       "12114                       Get hot   \n",
       "13690              Olympic strength   \n",
       "15928  As simple as black and white   \n",
       "17380                  Feel younger   \n",
       "18300                   Great power   \n",
       "19220                Have a secret?   \n",
       "19982                 Need no words   \n",
       "21936                   Feel better   \n",
       "24516         All that beach chicks   \n",
       "27838              Olympus mountain   \n",
       "38320                  Beijing 2008   \n",
       "\n",
       "                                                    body  label  urls  \\\n",
       "6224   Summer is here \\n\\nhttp://lookresolution.com/?...      1     1   \n",
       "7343        Need no words \\n\\nhttp://spivaka.cn/v/\\n\\n\\n      1     1   \n",
       "8528   Olympus mountain \\n\\nhttp://eitherindependence...      1     1   \n",
       "9502   Olympic people \\n\\nhttp://eitherindependence.c...      1     1   \n",
       "12114  Sun, sea and summer \\n\\nhttp://eitherindepende...      1     1   \n",
       "13690  Summer is here \\n\\nhttp://definitioneven.com/?...      1     1   \n",
       "15928      Wonderful thing \\n\\nhttp://bunjax.cn/a/\\n\\n\\n      1     1   \n",
       "17380             Whatever \\n\\nhttp://runlyr.cn/v/\\n\\n\\n      1     1   \n",
       "18300  Olympus mountain \\n\\nhttp://definitioneven.com...      1     1   \n",
       "19220     \\nHave a secret? \\n\\nhttp://nakseh.cn/a/\\n\\n\\n      1     1   \n",
       "19982     \\nHave a secret? \\n\\nhttp://mirvop.cn/v/\\n\\n\\n      1     1   \n",
       "21936        Pretty woman \\n\\nhttp://demiqaq.cn/v/\\n\\n\\n      1     1   \n",
       "24516  Olympic people \\n\\nhttp://spaceabout.com/?said...      1     1   \n",
       "27838  Olympic people \\n\\nhttp://alsodone.com/?said=r...      1     1   \n",
       "38320  All that beach chicks \\n\\nhttp://spiritualityb...      1     1   \n",
       "\n",
       "      dayOfWeek  \n",
       "6224        Tue  \n",
       "7343        Wed  \n",
       "8528        Wed  \n",
       "9502        Wed  \n",
       "12114       Wed  \n",
       "13690       Wed  \n",
       "15928       Thu  \n",
       "17380       Wed  \n",
       "18300       Thu  \n",
       "19220       Thu  \n",
       "19982       Tue  \n",
       "21936       Thu  \n",
       "24516       Thu  \n",
       "27838       Mon  \n",
       "38320       Fri  "
      ]
     },
     "execution_count": 482,
     "metadata": {},
     "output_type": "execute_result"
    }
   ],
   "source": [
    "df[df['date'].isnull()]"
   ]
  },
  {
   "cell_type": "code",
   "execution_count": 483,
   "id": "fe6e02ef-0cf5-40d9-a9fb-0c872dd9a2b2",
   "metadata": {},
   "outputs": [
    {
     "name": "stderr",
     "output_type": "stream",
     "text": [
      "C:\\Users\\win10\\AppData\\Local\\Temp\\ipykernel_2844\\3504889436.py:1: FutureWarning: Series.fillna with 'method' is deprecated and will raise in a future version. Use obj.ffill() or obj.bfill() instead.\n",
      "  df['date'] = df['date'].fillna(method='ffill') #forward filling dates\n"
     ]
    },
    {
     "data": {
      "text/plain": [
       "0"
      ]
     },
     "execution_count": 483,
     "metadata": {},
     "output_type": "execute_result"
    }
   ],
   "source": [
    "df['date'] = df['date'].fillna(method='ffill') #forward filling dates\n",
    "\n",
    "df['date'].isnull().sum()"
   ]
  },
  {
   "cell_type": "code",
   "execution_count": 484,
   "id": "d108e80d-a49d-4466-8836-18afd4d70583",
   "metadata": {},
   "outputs": [
    {
     "data": {
      "text/plain": [
       "date\n",
       "2008    38477\n",
       "2007       37\n",
       "2002       33\n",
       "2000       25\n",
       "2005       18\n",
       "2003       16\n",
       "2009       15\n",
       "2001       13\n",
       "2004       10\n",
       "2006        7\n",
       "2100        4\n",
       "2020        2\n",
       "1998        2\n",
       "1986        2\n",
       "2080        1\n",
       "2031        1\n",
       "2012        1\n",
       "1981        1\n",
       "2010        1\n",
       "2086        1\n",
       "1980        1\n",
       "1999        1\n",
       "Name: count, dtype: int64"
      ]
     },
     "execution_count": 484,
     "metadata": {},
     "output_type": "execute_result"
    }
   ],
   "source": [
    "df['date'].dt.year.value_counts()"
   ]
  },
  {
   "cell_type": "markdown",
   "id": "7392fa62-6814-4ba4-b8c7-3269ace4d57f",
   "metadata": {},
   "source": [
    "### Most of the data is from the year 2008."
   ]
  },
  {
   "cell_type": "code",
   "execution_count": 486,
   "id": "e75d279f-8d1c-42be-b20c-e6ad06895e4a",
   "metadata": {},
   "outputs": [
    {
     "data": {
      "image/png": "[encoded data removed]",
      "text/plain": [
       "<Figure size 640x480 with 1 Axes>"
      ]
     },
     "metadata": {},
     "output_type": "display_data"
    }
   ],
   "source": [
    "month_count = df['date'].dt.month.value_counts()\n",
    "month_count.plot.bar()\n",
    "plt.show()"
   ]
  },
  {
   "cell_type": "markdown",
   "id": "deea1aeb-3d50-4f61-b135-43a2ba9e077d",
   "metadata": {},
   "source": [
    "### Above graph resrents that a big chunk of data belongs to Aug'2008 "
   ]
  },
  {
   "cell_type": "code",
   "execution_count": 488,
   "id": "205f3c46-e3ea-41d4-93b2-02c4375e5fc9",
   "metadata": {},
   "outputs": [
    {
     "data": {
      "text/plain": [
       "dayOfWeek\n",
       "Wed    14111\n",
       "Thu    12684\n",
       "Fri     6857\n",
       "Tue     4629\n",
       "Mon      210\n",
       "Sat      103\n",
       "Sun       75\n",
       "Name: count, dtype: int64"
      ]
     },
     "execution_count": 488,
     "metadata": {},
     "output_type": "execute_result"
    }
   ],
   "source": [
    "df['dayOfWeek'].value_counts()"
   ]
  },
  {
   "cell_type": "code",
   "execution_count": 489,
   "id": "a41b6520-cdf8-4e36-a0b2-bd9a330938e6",
   "metadata": {},
   "outputs": [
    {
     "data": {
      "text/plain": [
       "<Axes: xlabel='dayOfWeek', ylabel='count'>"
      ]
     },
     "execution_count": 489,
     "metadata": {},
     "output_type": "execute_result"
    },
    {
     "data": {
      "image/png": "[encoded data removed]",
      "text/plain": [
       "<Figure size 640x480 with 1 Axes>"
      ]
     },
     "metadata": {},
     "output_type": "display_data"
    }
   ],
   "source": [
    "sns.countplot(data = df, x ='dayOfWeek',order = ['sun','Mon','Tue','Wed','Thu','Fri','Sat'])"
   ]
  },
  {
   "cell_type": "markdown",
   "id": "a9a2a2dc-5cce-46ff-bb94-68f5b55ea5db",
   "metadata": {},
   "source": [
    "### Most of emails are sent on Wed & Thu"
   ]
  },
  {
   "cell_type": "code",
   "execution_count": 491,
   "id": "592cf610-8770-487b-a531-d6bb9c9a6a9f",
   "metadata": {},
   "outputs": [
    {
     "data": {
      "text/html": [
       "<div>\n",
       "<style scoped>\n",
       "    .dataframe tbody tr th:only-of-type {\n",
       "        vertical-align: middle;\n",
       "    }\n",
       "\n",
       "    .dataframe tbody tr th {\n",
       "        vertical-align: top;\n",
       "    }\n",
       "\n",
       "    .dataframe thead th {\n",
       "        text-align: right;\n",
       "    }\n",
       "</style>\n",
       "<table border=\"1\" class=\"dataframe\">\n",
       "  <thead>\n",
       "    <tr style=\"text-align: right;\">\n",
       "      <th></th>\n",
       "      <th>sender</th>\n",
       "      <th>receiver</th>\n",
       "      <th>date</th>\n",
       "      <th>subject</th>\n",
       "      <th>body</th>\n",
       "      <th>label</th>\n",
       "      <th>urls</th>\n",
       "      <th>dayOfWeek</th>\n",
       "    </tr>\n",
       "  </thead>\n",
       "  <tbody>\n",
       "    <tr>\n",
       "      <th>0</th>\n",
       "      <td>iworld.de</td>\n",
       "      <td>gvc.ceas-challenge.cc</td>\n",
       "      <td>2008-08-05 23:31:02+00:00</td>\n",
       "      <td>Never agree to be a loser</td>\n",
       "      <td>Buck up, your troubles caused by small dimensi...</td>\n",
       "      <td>1</td>\n",
       "      <td>1</td>\n",
       "      <td>Tue</td>\n",
       "    </tr>\n",
       "    <tr>\n",
       "      <th>1</th>\n",
       "      <td>icable.ph</td>\n",
       "      <td>gvc.ceas-challenge.cc</td>\n",
       "      <td>2008-08-05 23:31:03+00:00</td>\n",
       "      <td>Befriend Jenna Jameson</td>\n",
       "      <td>\\nUpgrade your sex and pleasures with these te...</td>\n",
       "      <td>1</td>\n",
       "      <td>1</td>\n",
       "      <td>Tue</td>\n",
       "    </tr>\n",
       "  </tbody>\n",
       "</table>\n",
       "</div>"
      ],
      "text/plain": [
       "      sender               receiver                      date  \\\n",
       "0  iworld.de  gvc.ceas-challenge.cc 2008-08-05 23:31:02+00:00   \n",
       "1  icable.ph  gvc.ceas-challenge.cc 2008-08-05 23:31:03+00:00   \n",
       "\n",
       "                     subject  \\\n",
       "0  Never agree to be a loser   \n",
       "1     Befriend Jenna Jameson   \n",
       "\n",
       "                                                body  label  urls dayOfWeek  \n",
       "0  Buck up, your troubles caused by small dimensi...      1     1       Tue  \n",
       "1  \\nUpgrade your sex and pleasures with these te...      1     1       Tue  "
      ]
     },
     "execution_count": 491,
     "metadata": {},
     "output_type": "execute_result"
    }
   ],
   "source": [
    "df.head(2)"
   ]
  },
  {
   "cell_type": "code",
   "execution_count": 492,
   "id": "f24a19a7-ebf0-4796-9a64-0fd6f92b1e54",
   "metadata": {},
   "outputs": [
    {
     "data": {
      "text/plain": [
       "Text(0, 0.5, 'Number of emails')"
      ]
     },
     "execution_count": 492,
     "metadata": {},
     "output_type": "execute_result"
    },
    {
     "data": {
      "image/png": "[encoded data removed]",
      "text/plain": [
       "<Figure size 640x480 with 1 Axes>"
      ]
     },
     "metadata": {},
     "output_type": "display_data"
    }
   ],
   "source": [
    "time = df['date'].dt.hour.value_counts().reset_index(drop=True)\n",
    "\n",
    "sns.barplot(x = time.index, y = time.values)\n",
    "plt.xlabel('time of the day')\n",
    "plt.ylabel('Number of emails')"
   ]
  },
  {
   "cell_type": "markdown",
   "id": "e99bf68e-80b1-4755-ac51-27bbd1f235e4",
   "metadata": {},
   "source": [
    "### Most of the emails are sent from midight to 09 AM and as the day progresses, the number of emails decline."
   ]
  },
  {
   "cell_type": "code",
   "execution_count": 494,
   "id": "ac06dfdf-c5c0-49ac-9005-2082efa33ce3",
   "metadata": {},
   "outputs": [
    {
     "data": {
      "text/plain": [
       "<Axes: xlabel='date', ylabel='count'>"
      ]
     },
     "execution_count": 494,
     "metadata": {},
     "output_type": "execute_result"
    },
    {
     "data": {
      "image/png": "[encoded data removed]",
      "text/plain": [
       "<Figure size 640x480 with 1 Axes>"
      ]
     },
     "metadata": {},
     "output_type": "display_data"
    }
   ],
   "source": [
    "sns.countplot(data = df, x = df.date.dt.hour, hue =df.label)"
   ]
  },
  {
   "cell_type": "markdown",
   "id": "54a5a716-f52e-4987-b062-b1767ae1a74f",
   "metadata": {},
   "source": [
    "### The number of spam emails are more than non-spam emails from 08 AM to 08 PM"
   ]
  },
  {
   "cell_type": "code",
   "execution_count": 496,
   "id": "17c278be-1971-4f6e-af67-f1d75f7618b1",
   "metadata": {},
   "outputs": [
    {
     "data": {
      "text/html": [
       "<div>\n",
       "<style scoped>\n",
       "    .dataframe tbody tr th:only-of-type {\n",
       "        vertical-align: middle;\n",
       "    }\n",
       "\n",
       "    .dataframe tbody tr th {\n",
       "        vertical-align: top;\n",
       "    }\n",
       "\n",
       "    .dataframe thead th {\n",
       "        text-align: right;\n",
       "    }\n",
       "</style>\n",
       "<table border=\"1\" class=\"dataframe\">\n",
       "  <thead>\n",
       "    <tr style=\"text-align: right;\">\n",
       "      <th></th>\n",
       "      <th>sender</th>\n",
       "      <th>receiver</th>\n",
       "      <th>date</th>\n",
       "      <th>subject</th>\n",
       "      <th>body</th>\n",
       "      <th>label</th>\n",
       "      <th>urls</th>\n",
       "      <th>dayOfWeek</th>\n",
       "    </tr>\n",
       "  </thead>\n",
       "  <tbody>\n",
       "    <tr>\n",
       "      <th>0</th>\n",
       "      <td>iworld.de</td>\n",
       "      <td>gvc.ceas-challenge.cc</td>\n",
       "      <td>2008-08-05 23:31:02+00:00</td>\n",
       "      <td>Never agree to be a loser</td>\n",
       "      <td>Buck up, your troubles caused by small dimensi...</td>\n",
       "      <td>1</td>\n",
       "      <td>1</td>\n",
       "      <td>Tue</td>\n",
       "    </tr>\n",
       "    <tr>\n",
       "      <th>1</th>\n",
       "      <td>icable.ph</td>\n",
       "      <td>gvc.ceas-challenge.cc</td>\n",
       "      <td>2008-08-05 23:31:03+00:00</td>\n",
       "      <td>Befriend Jenna Jameson</td>\n",
       "      <td>\\nUpgrade your sex and pleasures with these te...</td>\n",
       "      <td>1</td>\n",
       "      <td>1</td>\n",
       "      <td>Tue</td>\n",
       "    </tr>\n",
       "  </tbody>\n",
       "</table>\n",
       "</div>"
      ],
      "text/plain": [
       "      sender               receiver                      date  \\\n",
       "0  iworld.de  gvc.ceas-challenge.cc 2008-08-05 23:31:02+00:00   \n",
       "1  icable.ph  gvc.ceas-challenge.cc 2008-08-05 23:31:03+00:00   \n",
       "\n",
       "                     subject  \\\n",
       "0  Never agree to be a loser   \n",
       "1     Befriend Jenna Jameson   \n",
       "\n",
       "                                                body  label  urls dayOfWeek  \n",
       "0  Buck up, your troubles caused by small dimensi...      1     1       Tue  \n",
       "1  \\nUpgrade your sex and pleasures with these te...      1     1       Tue  "
      ]
     },
     "execution_count": 496,
     "metadata": {},
     "output_type": "execute_result"
    }
   ],
   "source": [
    "df.head(2)"
   ]
  },
  {
   "cell_type": "code",
   "execution_count": 497,
   "id": "4c8ae3ed-928c-4c7e-a279-dde0132fce32",
   "metadata": {},
   "outputs": [
    {
     "name": "stdout",
     "output_type": "stream",
     "text": [
      "Unique sender email addresses :  17703\n",
      "Unique receiver email addresses :  929\n"
     ]
    }
   ],
   "source": [
    "print('Unique sender email addresses : ',len(df['sender'].unique()))\n",
    "print('Unique receiver email addresses : ',len(df['receiver'].unique()))"
   ]
  },
  {
   "cell_type": "code",
   "execution_count": 498,
   "id": "60cc171b-51f1-48fe-82d9-fa18f7f3bab6",
   "metadata": {},
   "outputs": [],
   "source": [
    "top20_sender = df['sender'].value_counts().nlargest(20).index  # encoding top 20 and rest other \n",
    "top20_receiver = df['receiver'].value_counts().nlargest(20).index  \n",
    "\n",
    "\n",
    "df['sender_encoded'] = df['sender'].apply(lambda x:x if x in top20_sender else 'other')\n",
    "df['receiver_encoded'] = df['receiver'].apply(lambda x:x if x in top20_receiver else 'other')"
   ]
  },
  {
   "cell_type": "code",
   "execution_count": 499,
   "id": "51b2f452-b7d2-4b24-99d9-3a19f3105221",
   "metadata": {},
   "outputs": [],
   "source": [
    "le = LabelEncoder()\n",
    "df['sender_encoded'] = le.fit_transform(df['sender_encoded'])\n",
    "df['receiver_encoded'] = le.fit_transform(df['receiver_encoded'])\n",
    "df['dayOfWeek'] = le.fit_transform(df['dayOfWeek'])"
   ]
  },
  {
   "cell_type": "code",
   "execution_count": 500,
   "id": "3aa54dc9-e34f-42ba-acf0-61406ba1032a",
   "metadata": {},
   "outputs": [
    {
     "data": {
      "text/html": [
       "<div>\n",
       "<style scoped>\n",
       "    .dataframe tbody tr th:only-of-type {\n",
       "        vertical-align: middle;\n",
       "    }\n",
       "\n",
       "    .dataframe tbody tr th {\n",
       "        vertical-align: top;\n",
       "    }\n",
       "\n",
       "    .dataframe thead th {\n",
       "        text-align: right;\n",
       "    }\n",
       "</style>\n",
       "<table border=\"1\" class=\"dataframe\">\n",
       "  <thead>\n",
       "    <tr style=\"text-align: right;\">\n",
       "      <th></th>\n",
       "      <th>sender</th>\n",
       "      <th>receiver</th>\n",
       "      <th>date</th>\n",
       "      <th>subject</th>\n",
       "      <th>body</th>\n",
       "      <th>label</th>\n",
       "      <th>urls</th>\n",
       "      <th>dayOfWeek</th>\n",
       "      <th>sender_encoded</th>\n",
       "      <th>receiver_encoded</th>\n",
       "    </tr>\n",
       "  </thead>\n",
       "  <tbody>\n",
       "    <tr>\n",
       "      <th>0</th>\n",
       "      <td>iworld.de</td>\n",
       "      <td>gvc.ceas-challenge.cc</td>\n",
       "      <td>2008-08-05 23:31:02+00:00</td>\n",
       "      <td>Never agree to be a loser</td>\n",
       "      <td>Buck up, your troubles caused by small dimensi...</td>\n",
       "      <td>1</td>\n",
       "      <td>1</td>\n",
       "      <td>5</td>\n",
       "      <td>12</td>\n",
       "      <td>6</td>\n",
       "    </tr>\n",
       "    <tr>\n",
       "      <th>1</th>\n",
       "      <td>icable.ph</td>\n",
       "      <td>gvc.ceas-challenge.cc</td>\n",
       "      <td>2008-08-05 23:31:03+00:00</td>\n",
       "      <td>Befriend Jenna Jameson</td>\n",
       "      <td>\\nUpgrade your sex and pleasures with these te...</td>\n",
       "      <td>1</td>\n",
       "      <td>1</td>\n",
       "      <td>5</td>\n",
       "      <td>12</td>\n",
       "      <td>6</td>\n",
       "    </tr>\n",
       "    <tr>\n",
       "      <th>2</th>\n",
       "      <td>universalnet.psi.br</td>\n",
       "      <td>gvc.ceas-challenge.cc</td>\n",
       "      <td>2008-08-06 08:28:00+00:00</td>\n",
       "      <td>CNN.com Daily Top 10</td>\n",
       "      <td>&gt;+=+=+=+=+=+=+=+=+=+=+=+=+=+=+=+=+=+=+=+=+=+=+...</td>\n",
       "      <td>1</td>\n",
       "      <td>1</td>\n",
       "      <td>5</td>\n",
       "      <td>12</td>\n",
       "      <td>6</td>\n",
       "    </tr>\n",
       "    <tr>\n",
       "      <th>3</th>\n",
       "      <td>pobox.com</td>\n",
       "      <td>spamassassin.apache.org</td>\n",
       "      <td>2008-08-05 23:31:20+00:00</td>\n",
       "      <td>Re: svn commit: r619753 - in /spamassassin/tru...</td>\n",
       "      <td>Would anyone object to removing .so from this ...</td>\n",
       "      <td>0</td>\n",
       "      <td>1</td>\n",
       "      <td>5</td>\n",
       "      <td>14</td>\n",
       "      <td>16</td>\n",
       "    </tr>\n",
       "  </tbody>\n",
       "</table>\n",
       "</div>"
      ],
      "text/plain": [
       "                sender                 receiver                      date  \\\n",
       "0            iworld.de    gvc.ceas-challenge.cc 2008-08-05 23:31:02+00:00   \n",
       "1            icable.ph    gvc.ceas-challenge.cc 2008-08-05 23:31:03+00:00   \n",
       "2  universalnet.psi.br    gvc.ceas-challenge.cc 2008-08-06 08:28:00+00:00   \n",
       "3            pobox.com  spamassassin.apache.org 2008-08-05 23:31:20+00:00   \n",
       "\n",
       "                                             subject  \\\n",
       "0                          Never agree to be a loser   \n",
       "1                             Befriend Jenna Jameson   \n",
       "2                               CNN.com Daily Top 10   \n",
       "3  Re: svn commit: r619753 - in /spamassassin/tru...   \n",
       "\n",
       "                                                body  label  urls  dayOfWeek  \\\n",
       "0  Buck up, your troubles caused by small dimensi...      1     1          5   \n",
       "1  \\nUpgrade your sex and pleasures with these te...      1     1          5   \n",
       "2  >+=+=+=+=+=+=+=+=+=+=+=+=+=+=+=+=+=+=+=+=+=+=+...      1     1          5   \n",
       "3  Would anyone object to removing .so from this ...      0     1          5   \n",
       "\n",
       "   sender_encoded  receiver_encoded  \n",
       "0              12                 6  \n",
       "1              12                 6  \n",
       "2              12                 6  \n",
       "3              14                16  "
      ]
     },
     "execution_count": 500,
     "metadata": {},
     "output_type": "execute_result"
    }
   ],
   "source": [
    "df.head(4)"
   ]
  },
  {
   "cell_type": "code",
   "execution_count": 501,
   "id": "3ae57c86-8966-48ec-8360-20241e3e7ff0",
   "metadata": {},
   "outputs": [],
   "source": [
    "ps = PorterStemmer()\n",
    "\n",
    "def stemming(text):\n",
    "    lst = []\n",
    "    text = re.sub(r'[^a-zA-Z0-9 ]',\" \",text)\n",
    "    for i in text.split():\n",
    "        lst.append(ps.stem(i))\n",
    "    return \" \".join(lst)    \n",
    "\n",
    "\n",
    "    "
   ]
  },
  {
   "cell_type": "code",
   "execution_count": 502,
   "id": "7e0ce7b0-cf10-469c-be9c-e8a867bd0679",
   "metadata": {},
   "outputs": [
    {
     "data": {
      "text/plain": [
       "0                                 never agre to be a loser\n",
       "1                                   befriend jenna jameson\n",
       "2                                     cnn com daili top 10\n",
       "3        re svn commit r619753 in spamassassin trunk li...\n",
       "4                               specialpricespharmmoreinfo\n",
       "                               ...                        \n",
       "38664                            cnn alert my custom alert\n",
       "38665                            cnn alert my custom alert\n",
       "38666                                     slideshow viewer\n",
       "38667                                 note on 2 digit year\n",
       "38668                           python dev pep 370 head up\n",
       "Name: subject, Length: 38669, dtype: object"
      ]
     },
     "execution_count": 502,
     "metadata": {},
     "output_type": "execute_result"
    }
   ],
   "source": [
    "df['subject'] = df['subject'].apply(stemming)\n",
    "\n",
    "df['subject']"
   ]
  },
  {
   "cell_type": "code",
   "execution_count": 503,
   "id": "bd00ce32-46ce-4447-a92f-a49bd494ff2e",
   "metadata": {},
   "outputs": [
    {
     "data": {
      "text/plain": [
       "0        buck up your troubl caus by small dimens will ...\n",
       "1        upgrad your sex and pleasur with these techniq...\n",
       "2        the daili top 10 from cnn com top video and st...\n",
       "3        would anyon object to remov so from thi list t...\n",
       "4        welcomefastshippingcustomersupport http 7iwfna...\n",
       "                               ...                        \n",
       "38664    cnn alert my custom alert alert name my custom...\n",
       "38665    cnn alert my custom alert alert name my custom...\n",
       "38666    hello there great work on the slide show viewe...\n",
       "38667    mail from sender come from intuit com server 2...\n",
       "38668    dear fellow pythonista guido ha accept my user...\n",
       "Name: body, Length: 38669, dtype: object"
      ]
     },
     "execution_count": 503,
     "metadata": {},
     "output_type": "execute_result"
    }
   ],
   "source": [
    "df['body'] = df['body'].apply(stemming)\n",
    "\n",
    "df['body']"
   ]
  },
  {
   "cell_type": "code",
   "execution_count": 504,
   "id": "eebef79f-a685-4f16-aa6f-3fa8d85a7fab",
   "metadata": {},
   "outputs": [
    {
     "data": {
      "text/html": [
       "<div>\n",
       "<style scoped>\n",
       "    .dataframe tbody tr th:only-of-type {\n",
       "        vertical-align: middle;\n",
       "    }\n",
       "\n",
       "    .dataframe tbody tr th {\n",
       "        vertical-align: top;\n",
       "    }\n",
       "\n",
       "    .dataframe thead th {\n",
       "        text-align: right;\n",
       "    }\n",
       "</style>\n",
       "<table border=\"1\" class=\"dataframe\">\n",
       "  <thead>\n",
       "    <tr style=\"text-align: right;\">\n",
       "      <th></th>\n",
       "      <th>sender</th>\n",
       "      <th>receiver</th>\n",
       "      <th>date</th>\n",
       "      <th>subject</th>\n",
       "      <th>body</th>\n",
       "      <th>label</th>\n",
       "      <th>urls</th>\n",
       "      <th>dayOfWeek</th>\n",
       "      <th>sender_encoded</th>\n",
       "      <th>receiver_encoded</th>\n",
       "    </tr>\n",
       "  </thead>\n",
       "  <tbody>\n",
       "    <tr>\n",
       "      <th>0</th>\n",
       "      <td>iworld.de</td>\n",
       "      <td>gvc.ceas-challenge.cc</td>\n",
       "      <td>2008-08-05 23:31:02+00:00</td>\n",
       "      <td>never agre to be a loser</td>\n",
       "      <td>buck up your troubl caus by small dimens will ...</td>\n",
       "      <td>1</td>\n",
       "      <td>1</td>\n",
       "      <td>5</td>\n",
       "      <td>12</td>\n",
       "      <td>6</td>\n",
       "    </tr>\n",
       "    <tr>\n",
       "      <th>1</th>\n",
       "      <td>icable.ph</td>\n",
       "      <td>gvc.ceas-challenge.cc</td>\n",
       "      <td>2008-08-05 23:31:03+00:00</td>\n",
       "      <td>befriend jenna jameson</td>\n",
       "      <td>upgrad your sex and pleasur with these techniq...</td>\n",
       "      <td>1</td>\n",
       "      <td>1</td>\n",
       "      <td>5</td>\n",
       "      <td>12</td>\n",
       "      <td>6</td>\n",
       "    </tr>\n",
       "    <tr>\n",
       "      <th>2</th>\n",
       "      <td>universalnet.psi.br</td>\n",
       "      <td>gvc.ceas-challenge.cc</td>\n",
       "      <td>2008-08-06 08:28:00+00:00</td>\n",
       "      <td>cnn com daili top 10</td>\n",
       "      <td>the daili top 10 from cnn com top video and st...</td>\n",
       "      <td>1</td>\n",
       "      <td>1</td>\n",
       "      <td>5</td>\n",
       "      <td>12</td>\n",
       "      <td>6</td>\n",
       "    </tr>\n",
       "  </tbody>\n",
       "</table>\n",
       "</div>"
      ],
      "text/plain": [
       "                sender               receiver                      date  \\\n",
       "0            iworld.de  gvc.ceas-challenge.cc 2008-08-05 23:31:02+00:00   \n",
       "1            icable.ph  gvc.ceas-challenge.cc 2008-08-05 23:31:03+00:00   \n",
       "2  universalnet.psi.br  gvc.ceas-challenge.cc 2008-08-06 08:28:00+00:00   \n",
       "\n",
       "                    subject  \\\n",
       "0  never agre to be a loser   \n",
       "1    befriend jenna jameson   \n",
       "2      cnn com daili top 10   \n",
       "\n",
       "                                                body  label  urls  dayOfWeek  \\\n",
       "0  buck up your troubl caus by small dimens will ...      1     1          5   \n",
       "1  upgrad your sex and pleasur with these techniq...      1     1          5   \n",
       "2  the daili top 10 from cnn com top video and st...      1     1          5   \n",
       "\n",
       "   sender_encoded  receiver_encoded  \n",
       "0              12                 6  \n",
       "1              12                 6  \n",
       "2              12                 6  "
      ]
     },
     "execution_count": 504,
     "metadata": {},
     "output_type": "execute_result"
    }
   ],
   "source": [
    "df.head(3)"
   ]
  },
  {
   "cell_type": "code",
   "execution_count": 505,
   "id": "9f6f10c4-deca-4323-bc8a-ae672081ccbb",
   "metadata": {},
   "outputs": [],
   "source": [
    "df['text'] = df['subject']+\" \"+ df['body']"
   ]
  },
  {
   "cell_type": "code",
   "execution_count": 506,
   "id": "de97ebb5-d8d9-4359-965d-9d4d365f6a8c",
   "metadata": {},
   "outputs": [],
   "source": [
    "x = df['text']\n",
    "y = df['label']"
   ]
  },
  {
   "cell_type": "code",
   "execution_count": 507,
   "id": "8a33f7c5-cd62-4ed8-96e1-05edea76fd4d",
   "metadata": {},
   "outputs": [],
   "source": [
    "x_train, x_test, y_train, y_test = train_test_split(x, y, test_size=0.33, stratify= y, random_state=42)"
   ]
  },
  {
   "cell_type": "code",
   "execution_count": 508,
   "id": "b44b85f5-372c-43fc-8934-3c534593829a",
   "metadata": {},
   "outputs": [
    {
     "name": "stdout",
     "output_type": "stream",
     "text": [
      "(25908,)\n",
      "(25908,)\n"
     ]
    }
   ],
   "source": [
    "print(x_train.shape)\n",
    "print(y_train.shape)"
   ]
  },
  {
   "cell_type": "code",
   "execution_count": 509,
   "id": "4879c6e9-77a7-48ea-ba77-546d04cfe50b",
   "metadata": {},
   "outputs": [],
   "source": [
    "tfidf = TfidfVectorizer(max_features = 2400, stop_words = 'english')\n",
    "\n",
    "\n",
    "x_train = tfidf.fit_transform(x_train).toarray()\n",
    "x_test = tfidf.transform(x_test).toarray()\n",
    "\n"
   ]
  },
  {
   "cell_type": "code",
   "execution_count": 510,
   "id": "d89a4ebc-62e9-487f-b509-0440286f86ac",
   "metadata": {},
   "outputs": [
    {
     "data": {
      "text/plain": [
       "array(['07may2008', '0nline', '0ver', '10', '100', '100mg', '102', '103',\n",
       "       '103rephras', '107', '11', '110', '12', '123', '13', '14', '140',\n",
       "       '15', '16', '19', '199', '20', '200', '2005', '2006', '2007',\n",
       "       '2008', '23', '24', '25', '256bit', '26', '26a1', '29', '2nd',\n",
       "       '2to3', '30', '3000', '30a3', '3108', '32bit', '36', '365', '3945',\n",
       "       '3oo', '46011', '47181', '50', '50mg', '510', '5100', '5817',\n",
       "       '588', '60', '64bit', '65', '72', '90', '999', 'abridg', 'abus',\n",
       "       'accept', 'access', 'accessori', 'account', 'acm', 'act', 'action',\n",
       "       'activ', 'ad', 'add', 'address', 'admir', 'advertis', 'advic',\n",
       "       'adword', 'afford', 'afraid', 'age', 'agent', 'agm', 'ai', 'alert',\n",
       "       'alia', 'allow', 'alpha', 'alreadi', 'altern', 'alway', 'amavisd',\n",
       "       'amazoncom', 'analysi', 'angri', 'ani', 'ann', 'announc', 'anoth',\n",
       "       'answer', 'antispam', 'anymor', 'anyon', 'apach', 'api', 'applic',\n",
       "       'appreci', 'approach', 'approv', 'april', 'articl', 'artifici',\n",
       "       'ask', 'ass', 'assert', 'astrologycom', 'atch', 'ati', 'attach',\n",
       "       'attain', 'attract', 'august', 'avail', 'avoid', 'aw', 'awl',\n",
       "       'bad', 'bag', 'bang', 'bare', 'base', 'bash', 'basic', 'bay',\n",
       "       'bayesian', 'bazaar', 'bbcbleadperl', 'beagl', 'beauti', 'becaus',\n",
       "       'becom', 'bed', 'bedroom', 'befor', 'beg', 'beginn', 'behavior',\n",
       "       'believ', 'belong', 'belov', 'ben', 'benefit', 'best', 'beta',\n",
       "       'better', 'big', 'bigger', 'blacklist', 'blead', 'block', 'blue',\n",
       "       'bodi', 'bogu', 'bonu', 'book', 'boost', 'boot', 'bottl', 'bounc',\n",
       "       'box', 'brand', 'break', 'breast', 'breath', 'brietl', 'bring',\n",
       "       'britney', 'broadband', 'broken', 'bug', 'build', 'buildbot',\n",
       "       'buildbotdevel', 'busi', 'buy', 'bvlgari', 'c4380', 'canada',\n",
       "       'canadian', 'canadianpharmaci', 'captur', 'card', 'care',\n",
       "       'cartier', 'case', 'catch', 'caught', 'caus', 'cd', 'celebr',\n",
       "       'centrefold', 'cfp', 'challeng', 'chanc', 'chanel', 'chang',\n",
       "       'charact', 'chat', 'cheap', 'cheaper', 'cheapest', 'check',\n",
       "       'chemist', 'child', 'choic', 'choos', 'christma', 'citi',\n",
       "       'clamavvirusdb', 'class', 'classic', 'classifi', 'clean', 'click',\n",
       "       'client', 'close', 'closest', 'cnet', 'cnn', 'cnncom', 'code',\n",
       "       'coke', 'com', 'come', 'command', 'commit', 'commite', 'commun',\n",
       "       'compar', 'compil', 'compiz', 'complex', 'comput', 'condit',\n",
       "       'confer', 'configur', 'confirm', 'congratul', 'connect', 'consid',\n",
       "       'constantin', 'constraint', 'consult', 'consum', 'contact',\n",
       "       'contain', 'content', 'control', 'convini', 'cool', 'copi', 'core',\n",
       "       'cost', 'costum', 'courier', 'cours', 'coward', 'cpan', 'cpanplu',\n",
       "       'cpu', 'crash', 'creat', 'culprit', 'cunninglingu', 'cup', 'cure',\n",
       "       'current', 'custom', 'daili', 'data', 'databas', 'date', 'day',\n",
       "       'deadlin', 'deal', 'decent', 'decimalunicod', 'decis', 'deep',\n",
       "       'deepli', 'default', 'defin', 'defrag', 'delightsom', 'deliv',\n",
       "       'deliveri', 'deni', 'deserv', 'design', 'desir', 'desper',\n",
       "       'detect', 'determin', 'develop', 'devwhat', 'dictitem', 'die',\n",
       "       'differ', 'digest', 'digit', 'dimens', 'direct', 'directori',\n",
       "       'dirt', 'discount', 'discourag', 'discret', 'disk', 'display',\n",
       "       'distribut', 'distutil', 'dixielandjazz', 'dmesg', 'doc', 'doctor',\n",
       "       'document', 'doe', 'doesnt', 'domain', 'dont', 'download', 'dream',\n",
       "       'drive', 'driver', 'drug', 'drugstor', 'duallif', 'dublin', 'dump',\n",
       "       'duodenalswitch', 'dvd', 'dysfunct', 'easi', 'easili', 'ebcdic',\n",
       "       'ecard', 'eclips', 'ed', 'edit', 'effect', 'egg', 'ejacul',\n",
       "       'email', 'emerg', 'encod', 'end', 'endless', 'endors', 'engin',\n",
       "       'enhanc', 'enjoy', 'enlarg', 'entir', 'equal', 'erect', 'erectil',\n",
       "       'error', 'escap', 'especi', 'event', 'everi', 'everybodi',\n",
       "       'everyth', 'evil', 'evot', 'exact', 'exampl', 'excel',\n",
       "       'excellentmad', 'exchang', 'excit', 'exclus', 'execut', 'exercis',\n",
       "       'exgf', 'exist', 'experi', 'explor', 'express', 'ext3', 'extend',\n",
       "       'extens', 'extern', 'extra', 'fail', 'failf', 'failm', 'failur',\n",
       "       'fake', 'fals', 'famou', 'fashion', 'fast', 'fatal', 'fax',\n",
       "       'featur', 'feb', 'februari', 'feel', 'file', 'filefetch', 'final',\n",
       "       'finest', 'firefox', 'firstclass', 'fix', 'flag', 'flame', 'forc',\n",
       "       'forget', 'fork', 'format', 'formula', 'fraction', 'frank', 'free',\n",
       "       'freebsd', 'freedom', 'freez', 'friday', 'friend', 'frustrat',\n",
       "       'fuck', 'fun', 'function', 'furiou', 'fusion', 'futur', 'fw',\n",
       "       'fwd', 'gain', 'galleri', 'game', 'gener', 'gent', 'gf', 'giant',\n",
       "       'gift', 'girl', 'girth', 'god', 'good', 'goodiest', 'googl',\n",
       "       'great', 'green', 'greet', 'group', 'growth', 'gspot', 'guarante',\n",
       "       'gucci', 'guid', 'guy', 'ha', 'handl', 'hang', 'happen', 'happi',\n",
       "       'hard', 'hardwar', 'head', 'header', 'health', 'healthi', 'hello',\n",
       "       'help', 'herbal', 'heur', 'hi', 'high', 'highli', 'highqual',\n",
       "       'hilton', 'hit', 'home', 'honesti', 'host', 'hot', 'hour', 'howto',\n",
       "       'hp', 'http', 'huge', 'ich', 'icml', 'icon', 'identifi', 'ieee',\n",
       "       'ierant', 'ietfdkim', 'ilug'], dtype=object)"
      ]
     },
     "execution_count": 510,
     "metadata": {},
     "output_type": "execute_result"
    }
   ],
   "source": [
    "\n",
    "tfidf1.get_feature_names_out()[:500]\n",
    "\n"
   ]
  },
  {
   "cell_type": "code",
   "execution_count": 512,
   "id": "ed0e5151-2eae-4b8f-8162-dde425788acd",
   "metadata": {},
   "outputs": [
    {
     "ename": "IndexError",
     "evalue": "only integers, slices (`:`), ellipsis (`...`), numpy.newaxis (`None`) and integer or boolean arrays are valid indices",
     "output_type": "error",
     "traceback": [
      "\u001b[1;31m---------------------------------------------------------------------------\u001b[0m",
      "\u001b[1;31mIndexError\u001b[0m                                Traceback (most recent call last)",
      "Cell \u001b[1;32mIn[512], line 1\u001b[0m\n\u001b[1;32m----> 1\u001b[0m new_x_train  \u001b[38;5;241m=\u001b[39m x_train[[\u001b[38;5;124m'\u001b[39m\u001b[38;5;124msender_encoded\u001b[39m\u001b[38;5;124m'\u001b[39m,\u001b[38;5;124m'\u001b[39m\u001b[38;5;124mreceiver_encoded\u001b[39m\u001b[38;5;124m'\u001b[39m,\u001b[38;5;124m'\u001b[39m\u001b[38;5;124murls\u001b[39m\u001b[38;5;124m'\u001b[39m,\u001b[38;5;124m'\u001b[39m\u001b[38;5;124mdayOfWeek\u001b[39m\u001b[38;5;124m'\u001b[39m]]\u001b[38;5;241m.\u001b[39mreset_index(drop\u001b[38;5;241m=\u001b[39m\u001b[38;5;28;01mTrue\u001b[39;00m)\n\u001b[0;32m      3\u001b[0m x_train \u001b[38;5;241m=\u001b[39m pd\u001b[38;5;241m.\u001b[39mconcat([x_train_sub,x_train_body,new_x_train],axis \u001b[38;5;241m=\u001b[39m \u001b[38;5;241m1\u001b[39m,ignore_index\u001b[38;5;241m=\u001b[39m\u001b[38;5;28;01mTrue\u001b[39;00m)\n",
      "\u001b[1;31mIndexError\u001b[0m: only integers, slices (`:`), ellipsis (`...`), numpy.newaxis (`None`) and integer or boolean arrays are valid indices"
     ]
    }
   ],
   "source": [
    "# new_x_train  = x_train[['sender_encoded','receiver_encoded','urls','dayOfWeek']].reset_index(drop=True)\n",
    "\n",
    "# x_train = pd.concat([x_train_sub,x_train_body,new_x_train],axis = 1,ignore_index=True)\n"
   ]
  },
  {
   "cell_type": "code",
   "execution_count": null,
   "id": "fc7391e4-1459-4d56-a5d7-6d8d7a305ca4",
   "metadata": {},
   "outputs": [],
   "source": [
    "# new_x_test  = x_test[['sender_encoded','receiver_encoded','urls','dayOfWeek']].reset_index(drop=True)\n",
    "\n",
    "# x_test = pd.concat([x_test_sub,x_test_body,new_x_test],axis = 1,ignore_index=True)"
   ]
  },
  {
   "cell_type": "code",
   "execution_count": 540,
   "id": "23713161-17b2-4aa9-80a3-cbf796742e57",
   "metadata": {},
   "outputs": [
    {
     "name": "stdout",
     "output_type": "stream",
     "text": [
      "(25908, 2400)\n",
      "(12761, 2400)\n"
     ]
    }
   ],
   "source": [
    "print(x_train.shape)\n",
    "print(x_test.shape)"
   ]
  },
  {
   "cell_type": "markdown",
   "id": "dcef8701-50b3-4c18-ac23-2ef7de1bd7e5",
   "metadata": {},
   "source": [
    "## Model Building"
   ]
  },
  {
   "cell_type": "code",
   "execution_count": 543,
   "id": "657d4fc3-facb-4683-9a5b-eda589792aac",
   "metadata": {},
   "outputs": [],
   "source": [
    "from sklearn.naive_bayes import MultinomialNB, GaussianNB,BernoulliNB"
   ]
  },
  {
   "cell_type": "code",
   "execution_count": 545,
   "id": "7a750ecf-2cb3-49a3-aac3-7b7fe1a69229",
   "metadata": {},
   "outputs": [],
   "source": [
    "clf1 = MultinomialNB()\n",
    "\n",
    "clf1.fit(x_train,y_train)\n",
    "\n",
    "train_pred = clf1.predict(x_train)\n",
    "\n",
    "test_pred = clf1.predict(x_test)\n"
   ]
  },
  {
   "cell_type": "code",
   "execution_count": 546,
   "id": "35dfe5ab-e2c0-4650-a9c2-9fa860a58057",
   "metadata": {},
   "outputs": [],
   "source": [
    "from sklearn.metrics import classification_report, accuracy_score, precision_score"
   ]
  },
  {
   "cell_type": "code",
   "execution_count": 549,
   "id": "9492065d-04c5-4531-8b5c-069e9a35ecb8",
   "metadata": {},
   "outputs": [
    {
     "name": "stdout",
     "output_type": "stream",
     "text": [
      "[[11169   115]\n",
      " [  563 14061]]\n"
     ]
    }
   ],
   "source": [
    "print(confusion_matrix(y_train,train_pred))"
   ]
  },
  {
   "cell_type": "code",
   "execution_count": 551,
   "id": "1beca5a8-3369-4f91-beeb-c75cade93644",
   "metadata": {},
   "outputs": [
    {
     "name": "stdout",
     "output_type": "stream",
     "text": [
      "[[5503   55]\n",
      " [ 298 6905]]\n"
     ]
    }
   ],
   "source": [
    "print(confusion_matrix(y_test,test_pred))"
   ]
  },
  {
   "cell_type": "code",
   "execution_count": 553,
   "id": "3a6a3b7f-9506-4519-af7a-b6870248838d",
   "metadata": {},
   "outputs": [
    {
     "name": "stdout",
     "output_type": "stream",
     "text": [
      "              precision    recall  f1-score   support\n",
      "\n",
      "           0       0.95      0.99      0.97     11284\n",
      "           1       0.99      0.96      0.98     14624\n",
      "\n",
      "    accuracy                           0.97     25908\n",
      "   macro avg       0.97      0.98      0.97     25908\n",
      "weighted avg       0.97      0.97      0.97     25908\n",
      "\n"
     ]
    }
   ],
   "source": [
    "print(classification_report(y_train,train_pred))"
   ]
  },
  {
   "cell_type": "code",
   "execution_count": 555,
   "id": "49991bd4-68bf-48b5-b8bf-b1a5aecb776a",
   "metadata": {},
   "outputs": [
    {
     "name": "stdout",
     "output_type": "stream",
     "text": [
      "              precision    recall  f1-score   support\n",
      "\n",
      "           0       0.95      0.99      0.97      5558\n",
      "           1       0.99      0.96      0.98      7203\n",
      "\n",
      "    accuracy                           0.97     12761\n",
      "   macro avg       0.97      0.97      0.97     12761\n",
      "weighted avg       0.97      0.97      0.97     12761\n",
      "\n"
     ]
    }
   ],
   "source": [
    "print(classification_report(y_test,test_pred))"
   ]
  },
  {
   "cell_type": "code",
   "execution_count": 557,
   "id": "ed196b41-a6b2-44e1-98cc-f7fbec3d0ad8",
   "metadata": {},
   "outputs": [],
   "source": [
    "clf2 = GaussianNB()\n",
    "\n",
    "clf2.fit(x_train,y_train)\n",
    "\n",
    "train_pred = clf2.predict(x_train)\n",
    "\n",
    "test_pred = clf2.predict(x_test)\n"
   ]
  },
  {
   "cell_type": "code",
   "execution_count": 558,
   "id": "a28350c4-9c07-40a0-a936-49a775bc7593",
   "metadata": {},
   "outputs": [
    {
     "name": "stdout",
     "output_type": "stream",
     "text": [
      "[[11141   143]\n",
      " [  210 14414]]\n"
     ]
    }
   ],
   "source": [
    "print(confusion_matrix(y_train,train_pred))"
   ]
  },
  {
   "cell_type": "code",
   "execution_count": 559,
   "id": "945bd5e4-958c-4b43-9207-39c26e9f3d47",
   "metadata": {},
   "outputs": [
    {
     "name": "stdout",
     "output_type": "stream",
     "text": [
      "[[5493   65]\n",
      " [ 166 7037]]\n"
     ]
    }
   ],
   "source": [
    "print(confusion_matrix(y_test,test_pred))"
   ]
  },
  {
   "cell_type": "code",
   "execution_count": 560,
   "id": "2a5a16ec-eec8-4ebc-873b-1304a1dc6477",
   "metadata": {},
   "outputs": [
    {
     "name": "stdout",
     "output_type": "stream",
     "text": [
      "              precision    recall  f1-score   support\n",
      "\n",
      "           0       0.97      0.99      0.98      5558\n",
      "           1       0.99      0.98      0.98      7203\n",
      "\n",
      "    accuracy                           0.98     12761\n",
      "   macro avg       0.98      0.98      0.98     12761\n",
      "weighted avg       0.98      0.98      0.98     12761\n",
      "\n"
     ]
    }
   ],
   "source": [
    "print(classification_report(y_test,test_pred))"
   ]
  },
  {
   "cell_type": "code",
   "execution_count": 561,
   "id": "8a6470e6-4a85-491c-a711-a727c4756465",
   "metadata": {},
   "outputs": [],
   "source": [
    "clf3 = BernoulliNB()\n",
    "\n",
    "clf3.fit(x_train,y_train)\n",
    "\n",
    "train_pred = clf3.predict(x_train)\n",
    "\n",
    "test_pred = clf3.predict(x_test)\n"
   ]
  },
  {
   "cell_type": "code",
   "execution_count": 562,
   "id": "bd0bc88e-a244-46d0-a80a-6a1e49ae15b0",
   "metadata": {},
   "outputs": [
    {
     "name": "stdout",
     "output_type": "stream",
     "text": [
      "[[5328  230]\n",
      " [ 141 7062]]\n"
     ]
    }
   ],
   "source": [
    "print(confusion_matrix(y_test,test_pred))"
   ]
  },
  {
   "cell_type": "code",
   "execution_count": 563,
   "id": "2ef6d662-a4f3-4d63-b6e1-95b013868d48",
   "metadata": {},
   "outputs": [
    {
     "name": "stdout",
     "output_type": "stream",
     "text": [
      "              precision    recall  f1-score   support\n",
      "\n",
      "           0       0.97      0.96      0.97      5558\n",
      "           1       0.97      0.98      0.97      7203\n",
      "\n",
      "    accuracy                           0.97     12761\n",
      "   macro avg       0.97      0.97      0.97     12761\n",
      "weighted avg       0.97      0.97      0.97     12761\n",
      "\n"
     ]
    }
   ],
   "source": [
    "print(classification_report(y_test,test_pred))"
   ]
  },
  {
   "cell_type": "code",
   "execution_count": 564,
   "id": "250a8d70-2558-4d67-b17f-70663451473c",
   "metadata": {},
   "outputs": [],
   "source": [
    "from sklearn.svm import SVC\n",
    "from sklearn.tree import DecisionTreeClassifier\n",
    "from sklearn.neighbors import KNeighborsClassifier\n",
    "from sklearn.ensemble import RandomForestClassifier\n",
    "from sklearn.ensemble import GradientBoostingClassifier\n",
    "from xgboost import XGBClassifier"
   ]
  },
  {
   "cell_type": "code",
   "execution_count": 565,
   "id": "bc431a52-18d7-4b57-9e7c-69557c671e8d",
   "metadata": {},
   "outputs": [],
   "source": [
    "svc = SVC(kernel='sigmoid')\n",
    "knn = KNeighborsClassifier()\n",
    "mnb = MultinomialNB()\n",
    "dtc = DecisionTreeClassifier(max_depth=5,random_state=24)\n",
    "rfc = RandomForestClassifier(n_estimators=50, random_state=24)\n",
    "gbc = GradientBoostingClassifier(n_estimators=50,random_state=24)\n",
    "xgb = XGBClassifier(n_estimators=50,random_state=24)"
   ]
  },
  {
   "cell_type": "code",
   "execution_count": 566,
   "id": "ac1e0875-6169-4eaa-a548-733598c10985",
   "metadata": {},
   "outputs": [],
   "source": [
    "algo = {'svc':svc,\n",
    "        'knn':knn,\n",
    "        'mnb':mnb,\n",
    "        'dtc':dtc,\n",
    "        'rfc':rfc,\n",
    "        'gbc':gbc,\n",
    "        'xgb':xgb}"
   ]
  },
  {
   "cell_type": "code",
   "execution_count": 567,
   "id": "95b159b1-bcd4-4628-a203-2a0a5651e185",
   "metadata": {},
   "outputs": [],
   "source": [
    "def train_classifier(clf, x_train,x_test,y_train,y_test):\n",
    "    clf.fit(x_train,y_train)\n",
    "    y_pred = clf.predict(x_test)\n",
    "    acc  = accuracy_score(y_test,y_pred)\n",
    "    pre = precision_score(y_test,y_pred)\n",
    "    return acc,pre"
   ]
  },
  {
   "cell_type": "code",
   "execution_count": 568,
   "id": "cba8d149-9f6b-40fa-9aad-a18a9e8cb21b",
   "metadata": {},
   "outputs": [],
   "source": [
    "accuracy = []\n",
    "precision = []\n",
    "\n",
    "for alg in algo.values():\n",
    "    acc,pre = train_classifier(alg, x_train,x_test,y_train,y_test)\n",
    "    accuracy.append(acc)\n",
    "    precision.append(pre)\n",
    "    \n",
    "    "
   ]
  },
  {
   "cell_type": "code",
   "execution_count": 569,
   "id": "10350734-06f1-41f7-98e1-539a1531e31b",
   "metadata": {},
   "outputs": [
    {
     "data": {
      "text/plain": [
       "[0.9916150771883081,\n",
       " 0.851500666091999,\n",
       " 0.9723375910978763,\n",
       " 0.9392680824386803,\n",
       " 0.9933390800094036,\n",
       " 0.9697515868662331,\n",
       " 0.9914583496591176]"
      ]
     },
     "execution_count": 569,
     "metadata": {},
     "output_type": "execute_result"
    }
   ],
   "source": [
    "accuracy"
   ]
  },
  {
   "cell_type": "code",
   "execution_count": 570,
   "id": "8ea8a849-5ba3-4219-b804-1f10cad50894",
   "metadata": {},
   "outputs": [],
   "source": [
    "performance = pd.DataFrame({'Algo':algo.keys(),'Accuracy' :accuracy,'Precision':precision}).sort_values('Precision',ascending = False)"
   ]
  },
  {
   "cell_type": "code",
   "execution_count": 571,
   "id": "6b1f8102-75ab-4f24-98eb-cdc16471e507",
   "metadata": {},
   "outputs": [
    {
     "data": {
      "text/html": [
       "<div>\n",
       "<style scoped>\n",
       "    .dataframe tbody tr th:only-of-type {\n",
       "        vertical-align: middle;\n",
       "    }\n",
       "\n",
       "    .dataframe tbody tr th {\n",
       "        vertical-align: top;\n",
       "    }\n",
       "\n",
       "    .dataframe thead th {\n",
       "        text-align: right;\n",
       "    }\n",
       "</style>\n",
       "<table border=\"1\" class=\"dataframe\">\n",
       "  <thead>\n",
       "    <tr style=\"text-align: right;\">\n",
       "      <th></th>\n",
       "      <th>Algo</th>\n",
       "      <th>Accuracy</th>\n",
       "      <th>Precision</th>\n",
       "    </tr>\n",
       "  </thead>\n",
       "  <tbody>\n",
       "    <tr>\n",
       "      <th>4</th>\n",
       "      <td>rfc</td>\n",
       "      <td>0.993339</td>\n",
       "      <td>0.994855</td>\n",
       "    </tr>\n",
       "    <tr>\n",
       "      <th>2</th>\n",
       "      <td>mnb</td>\n",
       "      <td>0.972338</td>\n",
       "      <td>0.992098</td>\n",
       "    </tr>\n",
       "    <tr>\n",
       "      <th>0</th>\n",
       "      <td>svc</td>\n",
       "      <td>0.991615</td>\n",
       "      <td>0.991821</td>\n",
       "    </tr>\n",
       "    <tr>\n",
       "      <th>6</th>\n",
       "      <td>xgb</td>\n",
       "      <td>0.991458</td>\n",
       "      <td>0.989917</td>\n",
       "    </tr>\n",
       "    <tr>\n",
       "      <th>5</th>\n",
       "      <td>gbc</td>\n",
       "      <td>0.969752</td>\n",
       "      <td>0.958563</td>\n",
       "    </tr>\n",
       "    <tr>\n",
       "      <th>3</th>\n",
       "      <td>dtc</td>\n",
       "      <td>0.939268</td>\n",
       "      <td>0.911629</td>\n",
       "    </tr>\n",
       "    <tr>\n",
       "      <th>1</th>\n",
       "      <td>knn</td>\n",
       "      <td>0.851501</td>\n",
       "      <td>0.791969</td>\n",
       "    </tr>\n",
       "  </tbody>\n",
       "</table>\n",
       "</div>"
      ],
      "text/plain": [
       "  Algo  Accuracy  Precision\n",
       "4  rfc  0.993339   0.994855\n",
       "2  mnb  0.972338   0.992098\n",
       "0  svc  0.991615   0.991821\n",
       "6  xgb  0.991458   0.989917\n",
       "5  gbc  0.969752   0.958563\n",
       "3  dtc  0.939268   0.911629\n",
       "1  knn  0.851501   0.791969"
      ]
     },
     "execution_count": 571,
     "metadata": {},
     "output_type": "execute_result"
    }
   ],
   "source": [
    "performance"
   ]
  },
  {
   "cell_type": "code",
   "execution_count": 587,
   "id": "1ae3e1cf-2939-439b-846d-730d6b3a7662",
   "metadata": {
    "scrolled": true
   },
   "outputs": [
    {
     "name": "stdout",
     "output_type": "stream",
     "text": [
      "209\n",
      "200\n",
      "196\n",
      "203\n",
      "213\n",
      "240\n",
      "223\n",
      "208\n",
      "202\n",
      "227\n",
      "213\n",
      "122\n",
      "211\n",
      "175\n",
      "197\n",
      "122\n",
      "237\n",
      "206\n",
      "230\n",
      "213\n",
      "211\n",
      "243\n",
      "202\n",
      "206\n",
      "207\n",
      "212\n",
      "247\n",
      "159\n",
      "157\n",
      "236\n",
      "140\n",
      "225\n",
      "213\n",
      "122\n",
      "214\n",
      "120\n",
      "89\n",
      "116\n",
      "252\n",
      "121\n",
      "135\n",
      "215\n",
      "229\n",
      "145\n",
      "208\n",
      "127\n",
      "215\n",
      "187\n",
      "212\n",
      "211\n"
     ]
    }
   ],
   "source": [
    "# showing depth of all 50 estimator of Random forest\n",
    "for i in rfc.estimators_:\n",
    "    print(i.get_depth())\n"
   ]
  },
  {
   "cell_type": "code",
   "execution_count": 589,
   "id": "5a9791d1-76ce-4a8e-bc25-a4b5374d77e7",
   "metadata": {},
   "outputs": [],
   "source": [
    "import pickle"
   ]
  },
  {
   "cell_type": "code",
   "execution_count": 595,
   "id": "8977409f-7de4-4c7a-81fe-bc2008e8d239",
   "metadata": {},
   "outputs": [],
   "source": [
    "pickle.dump(stemming,open('stemming.pkl','wb'))\n",
    "pickle.dump(tfidf,open('tfidf.pkl','wb'))\n",
    "pickle.dump(mnb,open('model.pkl','wb'))"
   ]
  },
  {
   "cell_type": "code",
   "execution_count": null,
   "id": "5b120cf5-fe64-4859-8ecd-52d938c3a91f",
   "metadata": {},
   "outputs": [],
   "source": []
  },
  {
   "cell_type": "code",
   "execution_count": null,
   "id": "ba48e9b8-6349-490b-a0cb-d185c338a440",
   "metadata": {},
   "outputs": [],
   "source": []
  },
  {
   "cell_type": "code",
   "execution_count": null,
   "id": "52f006e4-a4c8-4bc9-839a-aa74f6574704",
   "metadata": {},
   "outputs": [],
   "source": []
  },
  {
   "cell_type": "code",
   "execution_count": null,
   "id": "ef41a5cf-da6a-4057-9685-3dc670e721c7",
   "metadata": {},
   "outputs": [],
   "source": []
  },
  {
   "cell_type": "code",
   "execution_count": null,
   "id": "a630d730-aee0-4f21-8e2d-e29756ea6790",
   "metadata": {},
   "outputs": [],
   "source": []
  },
  {
   "cell_type": "code",
   "execution_count": null,
   "id": "7e62d921-36d0-4c03-bbb4-62b00daa26f7",
   "metadata": {},
   "outputs": [],
   "source": []
  },
  {
   "cell_type": "code",
   "execution_count": 593,
   "id": "46a0dbea-6626-45f0-9026-fef635f9d962",
   "metadata": {},
   "outputs": [
    {
     "name": "stdout",
     "output_type": "stream",
     "text": [
      "Note: you may need to restart the kernel to use updated packages.Collecting Pandoc\n",
      "  Downloading pandoc-2.4.tar.gz (34 kB)\n",
      "  Preparing metadata (setup.py): started\n",
      "  Preparing metadata (setup.py): finished with status 'done'\n",
      "Collecting plumbum (from Pandoc)\n",
      "  Downloading plumbum-1.9.0-py3-none-any.whl.metadata (10 kB)\n",
      "Requirement already satisfied: ply in c:\\users\\win10\\anaconda3\\lib\\site-packages (from Pandoc) (3.11)\n",
      "Requirement already satisfied: pywin32 in c:\\users\\win10\\anaconda3\\lib\\site-packages (from plumbum->Pandoc) (305.1)\n",
      "Downloading plumbum-1.9.0-py3-none-any.whl (127 kB)\n",
      "   ---------------------------------------- 0.0/128.0 kB ? eta -:--:--\n",
      "   ---------------------------- ----------- 92.2/128.0 kB 2.6 MB/s eta 0:00:01\n",
      "   ---------------------------------------- 128.0/128.0 kB 1.9 MB/s eta 0:00:00\n",
      "Building wheels for collected packages: Pandoc\n",
      "  Building wheel for Pandoc (setup.py): started\n",
      "  Building wheel for Pandoc (setup.py): finished with status 'done'\n",
      "  Created wheel for Pandoc: filename=pandoc-2.4-py3-none-any.whl size=34823 sha256=6e7a3fe25d6b9270d54ec33139f6fd630d1e317a94f90799e95116f23827e816\n",
      "  Stored in directory: c:\\users\\win10\\appdata\\local\\pip\\cache\\wheels\\9c\\2f\\9f\\b1aac8c3e74b4ee327dc8c6eac5128996f9eadf586e2c0ba67\n",
      "Successfully built Pandoc\n",
      "Installing collected packages: plumbum, Pandoc\n",
      "Successfully installed Pandoc-2.4 plumbum-1.9.0\n",
      "\n"
     ]
    }
   ],
   "source": [
    "pip install Pandoc"
   ]
  },
  {
   "cell_type": "code",
   "execution_count": null,
   "id": "327c059a-5268-4006-998e-1ea7992db92c",
   "metadata": {},
   "outputs": [],
   "source": []
  },
  {
   "cell_type": "code",
   "execution_count": null,
   "id": "8d1b5d48-054c-4d8a-b992-da5ab9944c06",
   "metadata": {},
   "outputs": [],
   "source": []
  },
  {
   "cell_type": "code",
   "execution_count": null,
   "id": "ac7b7820-c5dc-4bbd-bdcd-c7a612e89ce9",
   "metadata": {},
   "outputs": [],
   "source": []
  },
  {
   "cell_type": "code",
   "execution_count": null,
   "id": "72ace667-2838-4c68-8c83-42be8faa6abd",
   "metadata": {},
   "outputs": [],
   "source": []
  },
  {
   "cell_type": "code",
   "execution_count": null,
   "id": "2e6999b5-5ee3-4a00-8e0f-c1701a6bb137",
   "metadata": {},
   "outputs": [],
   "source": []
  },
  {
   "cell_type": "code",
   "execution_count": null,
   "id": "8deb57f8-1017-4cf8-8472-89b15cded08f",
   "metadata": {},
   "outputs": [],
   "source": []
  },
  {
   "cell_type": "code",
   "execution_count": null,
   "id": "2c59b928-d778-4a06-a9fe-51b1e7f476a1",
   "metadata": {},
   "outputs": [],
   "source": []
  },
  {
   "cell_type": "code",
   "execution_count": null,
   "id": "df7c60f5-572e-4dc4-b358-ba6142c4c10e",
   "metadata": {},
   "outputs": [],
   "source": []
  },
  {
   "cell_type": "code",
   "execution_count": null,
   "id": "ec227fa7-2459-4cd1-b735-0c354fec9476",
   "metadata": {},
   "outputs": [],
   "source": []
  },
  {
   "cell_type": "code",
   "execution_count": null,
   "id": "658fdc48-66cd-45b1-989b-863c56ce1a9d",
   "metadata": {},
   "outputs": [],
   "source": []
  },
  {
   "cell_type": "code",
   "execution_count": null,
   "id": "1a6fdcfd-b38e-4b8e-bbed-0c57404af030",
   "metadata": {},
   "outputs": [],
   "source": []
  },
  {
   "cell_type": "code",
   "execution_count": null,
   "id": "b17cacba-9e0a-480f-b96f-a48a91804968",
   "metadata": {},
   "outputs": [],
   "source": []
  },
  {
   "cell_type": "code",
   "execution_count": null,
   "id": "b764fe74-7f75-423a-972b-caa40ddab2cd",
   "metadata": {},
   "outputs": [],
   "source": []
  },
  {
   "cell_type": "code",
   "execution_count": null,
   "id": "85e617f4-804e-4ac2-ad54-6bad1e8d55f5",
   "metadata": {},
   "outputs": [],
   "source": []
  },
  {
   "cell_type": "code",
   "execution_count": null,
   "id": "71374871-da63-4044-9fce-567287d25af8",
   "metadata": {},
   "outputs": [],
   "source": []
  },
  {
   "cell_type": "code",
   "execution_count": null,
   "id": "11454534-efe5-4083-8866-2cc86633ed1f",
   "metadata": {},
   "outputs": [],
   "source": []
  }
 ],
 "metadata": {
  "kernelspec": {
   "display_name": "Python 3 (ipykernel)",
   "language": "python",
   "name": "python3"
  },
  "language_info": {
   "codemirror_mode": {
    "name": "ipython",
    "version": 3
   },
   "file_extension": ".py",
   "mimetype": "text/x-python",
   "name": "python",
   "nbconvert_exporter": "python",
   "pygments_lexer": "ipython3",
   "version": "3.12.4"
  }
 },
 "nbformat": 4,
 "nbformat_minor": 5
}
